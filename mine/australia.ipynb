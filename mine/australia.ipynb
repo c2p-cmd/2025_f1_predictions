{
 "cells": [
  {
   "cell_type": "markdown",
   "metadata": {},
   "source": [
    "We will approach each problem like a problem statement.\n",
    "\n",
    "We are going to try to predict the race times from based on last year's conditions + results"
   ]
  },
  {
   "cell_type": "code",
   "execution_count": 1,
   "metadata": {},
   "outputs": [],
   "source": [
    "import os\n",
    "import pandas as pd\n",
    "from sklearn.ensemble import GradientBoostingRegressor\n",
    "from sklearn.model_selection import train_test_split\n",
    "from sklearn.metrics import mean_absolute_error\n",
    "import plotly.express as px\n",
    "import plotly.graph_objects as go"
   ]
  },
  {
   "cell_type": "code",
   "execution_count": 2,
   "metadata": {},
   "outputs": [
    {
     "name": "stderr",
     "output_type": "stream",
     "text": [
      "/Users/captain-mac/Documents/Code/2025_f1_predictions/venv/lib/python3.9/site-packages/urllib3/__init__.py:35: NotOpenSSLWarning: urllib3 v2 only supports OpenSSL 1.1.1+, currently the 'ssl' module is compiled with 'LibreSSL 2.8.3'. See: https://github.com/urllib3/urllib3/issues/3020\n",
      "  warnings.warn(\n"
     ]
    }
   ],
   "source": [
    "import fastf1\n",
    "\n",
    "\n",
    "cache_path = \"../f1_cache\"\n",
    "# Check if the cache directory exists\n",
    "if not os.path.exists(cache_path):\n",
    "    os.makedirs(cache_path)\n",
    "\n",
    "# Enable FastF1 caching\n",
    "fastf1.Cache.enable_cache(cache_path)"
   ]
  },
  {
   "cell_type": "code",
   "execution_count": 3,
   "metadata": {},
   "outputs": [
    {
     "name": "stderr",
     "output_type": "stream",
     "text": [
      "core           INFO \tLoading data for Australian Grand Prix - Race [v3.5.3]\n",
      "req            INFO \tUsing cached data for session_info\n",
      "req            INFO \tUsing cached data for driver_info\n",
      "req            INFO \tUsing cached data for session_status_data\n",
      "req            INFO \tUsing cached data for lap_count\n",
      "req            INFO \tUsing cached data for track_status_data\n",
      "req            INFO \tUsing cached data for _extended_timing_data\n",
      "req            INFO \tUsing cached data for timing_app_data\n",
      "core           INFO \tProcessing timing data...\n",
      "req            INFO \tUsing cached data for car_data\n",
      "req            INFO \tUsing cached data for position_data\n",
      "req            INFO \tUsing cached data for weather_data\n",
      "req            INFO \tUsing cached data for race_control_messages\n",
      "core           INFO \tFinished loading data for 20 drivers: ['1', '44', '14', '18', '11', '4', '27', '81', '24', '22', '77', '55', '10', '31', '21', '2', '20', '63', '23', '16']\n",
      "core           INFO \tLoading data for Australian Grand Prix - Race [v3.5.3]\n",
      "req            INFO \tUsing cached data for session_info\n",
      "req            INFO \tUsing cached data for driver_info\n",
      "req            INFO \tUsing cached data for session_status_data\n",
      "req            INFO \tUsing cached data for lap_count\n",
      "req            INFO \tUsing cached data for track_status_data\n",
      "req            INFO \tUsing cached data for _extended_timing_data\n",
      "req            INFO \tUsing cached data for timing_app_data\n",
      "core           INFO \tProcessing timing data...\n",
      "req            INFO \tUsing cached data for car_data\n",
      "req            INFO \tUsing cached data for position_data\n",
      "req            INFO \tUsing cached data for weather_data\n",
      "req            INFO \tUsing cached data for race_control_messages\n",
      "core           INFO \tFinished loading data for 19 drivers: ['55', '16', '4', '81', '11', '18', '22', '14', '27', '20', '23', '3', '10', '77', '24', '31', '63', '44', '1']\n"
     ]
    }
   ],
   "source": [
    "# load data from Australian GP 2023, Australian GP 2024\n",
    "\n",
    "australian_gp_2023 = fastf1.get_session(2023, 'Australian GP', 'R')\n",
    "australian_gp_2023.load()\n",
    "\n",
    "australian_gp_2024 = fastf1.get_session(2024, 'Australian GP', 'R')\n",
    "australian_gp_2024.load()"
   ]
  },
  {
   "cell_type": "code",
   "execution_count": 4,
   "metadata": {},
   "outputs": [],
   "source": [
    "# weather data\n",
    "weather_data_2023 = australian_gp_2023.weather_data\n",
    "weather_data_2024 = australian_gp_2024.weather_data\n",
    "\n",
    "avg_temp_2023 = weather_data_2023['AirTemp'].mean()\n",
    "avg_temp_2024 = weather_data_2024['AirTemp'].mean()\n",
    "avg_humidity_2023 = weather_data_2023['Humidity'].mean()\n",
    "avg_humidity_2024 = weather_data_2024['Humidity'].mean()\n",
    "avg_wind_speed_2023 = weather_data_2023['WindSpeed'].mean()\n",
    "avg_wind_speed_2024 = weather_data_2024['WindSpeed'].mean()\n",
    "avg_rain_2023 = weather_data_2023['Rainfall'].mean()\n",
    "avg_rain_2024 = weather_data_2024['Rainfall'].mean()"
   ]
  },
  {
   "cell_type": "code",
   "execution_count": 5,
   "metadata": {},
   "outputs": [
    {
     "data": {
      "text/html": [
       "<div>\n",
       "<style scoped>\n",
       "    .dataframe tbody tr th:only-of-type {\n",
       "        vertical-align: middle;\n",
       "    }\n",
       "\n",
       "    .dataframe tbody tr th {\n",
       "        vertical-align: top;\n",
       "    }\n",
       "\n",
       "    .dataframe thead th {\n",
       "        text-align: right;\n",
       "    }\n",
       "</style>\n",
       "<table border=\"1\" class=\"dataframe\">\n",
       "  <thead>\n",
       "    <tr style=\"text-align: right;\">\n",
       "      <th></th>\n",
       "      <th>Time</th>\n",
       "      <th>Driver</th>\n",
       "      <th>LapTime</th>\n",
       "      <th>Sector1Time</th>\n",
       "      <th>Sector2Time</th>\n",
       "      <th>Sector3Time</th>\n",
       "      <th>Compound</th>\n",
       "      <th>TrackStatus</th>\n",
       "      <th>Year</th>\n",
       "      <th>AirTemp</th>\n",
       "      <th>Humidity</th>\n",
       "      <th>WindSpeed</th>\n",
       "      <th>Rainfall</th>\n",
       "    </tr>\n",
       "  </thead>\n",
       "  <tbody>\n",
       "    <tr>\n",
       "      <th>0</th>\n",
       "      <td>0 days 01:06:10.776000</td>\n",
       "      <td>VER</td>\n",
       "      <td>132.105</td>\n",
       "      <td>48.846</td>\n",
       "      <td>31.614</td>\n",
       "      <td>51.645</td>\n",
       "      <td>MEDIUM</td>\n",
       "      <td>4</td>\n",
       "      <td>2023</td>\n",
       "      <td>17.44955</td>\n",
       "      <td>54.157658</td>\n",
       "      <td>1.127027</td>\n",
       "      <td>0.0</td>\n",
       "    </tr>\n",
       "    <tr>\n",
       "      <th>1</th>\n",
       "      <td>0 days 01:08:21.433000</td>\n",
       "      <td>VER</td>\n",
       "      <td>130.657</td>\n",
       "      <td>46.836</td>\n",
       "      <td>29.178</td>\n",
       "      <td>54.643</td>\n",
       "      <td>MEDIUM</td>\n",
       "      <td>41</td>\n",
       "      <td>2023</td>\n",
       "      <td>17.44955</td>\n",
       "      <td>54.157658</td>\n",
       "      <td>1.127027</td>\n",
       "      <td>0.0</td>\n",
       "    </tr>\n",
       "    <tr>\n",
       "      <th>2</th>\n",
       "      <td>0 days 01:09:44.824000</td>\n",
       "      <td>VER</td>\n",
       "      <td>83.391</td>\n",
       "      <td>28.900</td>\n",
       "      <td>18.326</td>\n",
       "      <td>36.165</td>\n",
       "      <td>MEDIUM</td>\n",
       "      <td>1</td>\n",
       "      <td>2023</td>\n",
       "      <td>17.44955</td>\n",
       "      <td>54.157658</td>\n",
       "      <td>1.127027</td>\n",
       "      <td>0.0</td>\n",
       "    </tr>\n",
       "    <tr>\n",
       "      <th>3</th>\n",
       "      <td>0 days 01:11:07.928000</td>\n",
       "      <td>VER</td>\n",
       "      <td>83.104</td>\n",
       "      <td>28.935</td>\n",
       "      <td>18.347</td>\n",
       "      <td>35.822</td>\n",
       "      <td>MEDIUM</td>\n",
       "      <td>1</td>\n",
       "      <td>2023</td>\n",
       "      <td>17.44955</td>\n",
       "      <td>54.157658</td>\n",
       "      <td>1.127027</td>\n",
       "      <td>0.0</td>\n",
       "    </tr>\n",
       "    <tr>\n",
       "      <th>4</th>\n",
       "      <td>0 days 01:12:30.771000</td>\n",
       "      <td>VER</td>\n",
       "      <td>82.843</td>\n",
       "      <td>28.986</td>\n",
       "      <td>17.951</td>\n",
       "      <td>35.906</td>\n",
       "      <td>MEDIUM</td>\n",
       "      <td>1</td>\n",
       "      <td>2023</td>\n",
       "      <td>17.44955</td>\n",
       "      <td>54.157658</td>\n",
       "      <td>1.127027</td>\n",
       "      <td>0.0</td>\n",
       "    </tr>\n",
       "  </tbody>\n",
       "</table>\n",
       "</div>"
      ],
      "text/plain": [
       "                    Time Driver  LapTime  Sector1Time  Sector2Time  \\\n",
       "0 0 days 01:06:10.776000    VER  132.105       48.846       31.614   \n",
       "1 0 days 01:08:21.433000    VER  130.657       46.836       29.178   \n",
       "2 0 days 01:09:44.824000    VER   83.391       28.900       18.326   \n",
       "3 0 days 01:11:07.928000    VER   83.104       28.935       18.347   \n",
       "4 0 days 01:12:30.771000    VER   82.843       28.986       17.951   \n",
       "\n",
       "   Sector3Time Compound TrackStatus  Year   AirTemp   Humidity  WindSpeed  \\\n",
       "0       51.645   MEDIUM           4  2023  17.44955  54.157658   1.127027   \n",
       "1       54.643   MEDIUM          41  2023  17.44955  54.157658   1.127027   \n",
       "2       36.165   MEDIUM           1  2023  17.44955  54.157658   1.127027   \n",
       "3       35.822   MEDIUM           1  2023  17.44955  54.157658   1.127027   \n",
       "4       35.906   MEDIUM           1  2023  17.44955  54.157658   1.127027   \n",
       "\n",
       "   Rainfall  \n",
       "0       0.0  \n",
       "1       0.0  \n",
       "2       0.0  \n",
       "3       0.0  \n",
       "4       0.0  "
      ]
     },
     "execution_count": 5,
     "metadata": {},
     "output_type": "execute_result"
    }
   ],
   "source": [
    "# Get laps data for both years\n",
    "feature_columns = [\n",
    "    \"Time\",\n",
    "    \"Driver\",\n",
    "    \"LapTime\",\n",
    "    \"Sector1Time\",\n",
    "    \"Sector2Time\",\n",
    "    \"Sector3Time\",\n",
    "    \"Compound\",\n",
    "    \"TrackStatus\",\n",
    "]\n",
    "laps_2023 = australian_gp_2023.laps[feature_columns].copy()\n",
    "laps_2023['Year'] = 2023\n",
    "laps_2024 = australian_gp_2024.laps[feature_columns].copy()\n",
    "laps_2024['Year'] = 2024\n",
    "# Clean up the laps data\n",
    "laps_2023 = laps_2023.dropna()\n",
    "laps_2024 = laps_2024.dropna()\n",
    "\n",
    "# add weather data to laps data\n",
    "laps_2023[\"AirTemp\"] = avg_temp_2023\n",
    "laps_2023[\"Humidity\"] = avg_humidity_2023\n",
    "laps_2023[\"WindSpeed\"] = avg_wind_speed_2023\n",
    "laps_2023[\"Rainfall\"] = avg_rain_2023\n",
    "laps_2024[\"AirTemp\"] = avg_temp_2024\n",
    "laps_2024[\"Humidity\"] = avg_humidity_2024\n",
    "laps_2024[\"WindSpeed\"] = avg_wind_speed_2024\n",
    "laps_2024[\"Rainfall\"] = avg_rain_2024\n",
    "\n",
    "timing_columns = [\"LapTime\", \"Sector1Time\", \"Sector2Time\", \"Sector3Time\"]\n",
    "# Convert timing columns to seconds\n",
    "for col in timing_columns:\n",
    "    laps_2023[col] = laps_2023[col].dt.total_seconds()\n",
    "    laps_2024[col] = laps_2024[col].dt.total_seconds()\n",
    "\n",
    "# Combine laps data from both years\n",
    "laps_combined = pd.concat([laps_2023, laps_2024], ignore_index=True)\n",
    "if laps_combined.shape[0] == 0:\n",
    "    raise ValueError(\"No laps data available after filtering.\")\n",
    "laps_combined.head()"
   ]
  },
  {
   "cell_type": "code",
   "execution_count": 6,
   "metadata": {},
   "outputs": [
    {
     "data": {
      "text/plain": [
       "TrackStatus\n",
       "1       1677\n",
       "671       24\n",
       "4         21\n",
       "124       21\n",
       "41        19\n",
       "126       19\n",
       "12        18\n",
       "16        17\n",
       "14        12\n",
       "6         10\n",
       "1267       9\n",
       "71         4\n",
       "26         4\n",
       "214        1\n",
       "125        1\n",
       "2671       1\n",
       "Name: count, dtype: int64"
      ]
     },
     "metadata": {},
     "output_type": "display_data"
    },
    {
     "data": {
      "text/plain": [
       "Compound\n",
       "HARD      1527\n",
       "MEDIUM     301\n",
       "SOFT        30\n",
       "Name: count, dtype: int64"
      ]
     },
     "execution_count": 6,
     "metadata": {},
     "output_type": "execute_result"
    }
   ],
   "source": [
    "display(laps_combined.TrackStatus.value_counts())\n",
    "laps_combined.Compound.value_counts()"
   ]
  },
  {
   "cell_type": "code",
   "execution_count": 7,
   "metadata": {},
   "outputs": [
    {
     "name": "stderr",
     "output_type": "stream",
     "text": [
      "core           INFO \tLoading data for Australian Grand Prix - Qualifying [v3.5.3]\n",
      "req            INFO \tUsing cached data for session_info\n",
      "req            INFO \tUsing cached data for driver_info\n",
      "req            INFO \tUsing cached data for session_status_data\n",
      "req            INFO \tUsing cached data for track_status_data\n",
      "req            INFO \tUsing cached data for _extended_timing_data\n",
      "req            INFO \tUsing cached data for timing_app_data\n",
      "core           INFO \tProcessing timing data...\n",
      "req            INFO \tUsing cached data for car_data\n",
      "req            INFO \tUsing cached data for position_data\n",
      "req            INFO \tUsing cached data for weather_data\n",
      "req            INFO \tUsing cached data for race_control_messages\n",
      "core           INFO \tFinished loading data for 20 drivers: ['4', '81', '1', '63', '22', '23', '16', '44', '10', '55', '6', '14', '18', '7', '5', '12', '27', '30', '31', '87']\n"
     ]
    }
   ],
   "source": [
    "# try to get 2025 data\n",
    "try:\n",
    "    australian_gp_2025 = fastf1.get_session(2025, \"Australian GP\", \"Q\")\n",
    "    australian_gp_2025.load()\n",
    "    laps_2025 = australian_gp_2025.laps[feature_columns].copy()\n",
    "    laps_2025 = laps_2025.dropna()\n",
    "    laps_2025[\"Year\"] = 2025\n",
    "\n",
    "    weather_data_2025 = australian_gp_2025.weather_data\n",
    "    laps_2025[\"AirTemp\"] = weather_data_2025[\"AirTemp\"].mean()\n",
    "    laps_2025[\"Humidity\"] = weather_data_2025[\"Humidity\"].mean()\n",
    "    laps_2025[\"WindSpeed\"] = weather_data_2025[\"WindSpeed\"].mean()\n",
    "    laps_2025[\"Rainfall\"] = weather_data_2025[\"Rainfall\"].mean()\n",
    "    for col in timing_columns:\n",
    "        laps_2025[col] = laps_2025[col].dt.total_seconds()\n",
    "    laps_combined = pd.concat([laps_combined, laps_2025], ignore_index=True)\n",
    "except fastf1.exceptions.NoDataError:\n",
    "    print(\"No data for 2025 available.\")\n",
    "except fastf1.exceptions.SessionNotFoundError:\n",
    "    print(\"Session not found for 2025.\")\n",
    "except fastf1.exceptions.SessionNotLoadedError:\n",
    "    print(\"Session not loaded for 2025.\")\n",
    "except Exception as e:\n",
    "    print(f\"An error occurred while loading 2025 data: {e}\")"
   ]
  },
  {
   "cell_type": "code",
   "execution_count": 8,
   "metadata": {},
   "outputs": [
    {
     "data": {
      "text/html": [
       "<div>\n",
       "<style scoped>\n",
       "    .dataframe tbody tr th:only-of-type {\n",
       "        vertical-align: middle;\n",
       "    }\n",
       "\n",
       "    .dataframe tbody tr th {\n",
       "        vertical-align: top;\n",
       "    }\n",
       "\n",
       "    .dataframe thead th {\n",
       "        text-align: right;\n",
       "    }\n",
       "</style>\n",
       "<table border=\"1\" class=\"dataframe\">\n",
       "  <thead>\n",
       "    <tr style=\"text-align: right;\">\n",
       "      <th></th>\n",
       "      <th>Time</th>\n",
       "      <th>Driver</th>\n",
       "      <th>LapTime</th>\n",
       "      <th>Sector1Time</th>\n",
       "      <th>Sector2Time</th>\n",
       "      <th>Sector3Time</th>\n",
       "      <th>Compound</th>\n",
       "      <th>TrackStatus</th>\n",
       "      <th>Year</th>\n",
       "      <th>AirTemp</th>\n",
       "      <th>Humidity</th>\n",
       "      <th>WindSpeed</th>\n",
       "      <th>Rainfall</th>\n",
       "    </tr>\n",
       "  </thead>\n",
       "  <tbody>\n",
       "    <tr>\n",
       "      <th>0</th>\n",
       "      <td>0 days 01:06:10.776000</td>\n",
       "      <td>VER</td>\n",
       "      <td>132.105</td>\n",
       "      <td>48.846</td>\n",
       "      <td>31.614</td>\n",
       "      <td>51.645</td>\n",
       "      <td>MEDIUM</td>\n",
       "      <td>4</td>\n",
       "      <td>2023</td>\n",
       "      <td>17.44955</td>\n",
       "      <td>54.157658</td>\n",
       "      <td>1.127027</td>\n",
       "      <td>0.0</td>\n",
       "    </tr>\n",
       "    <tr>\n",
       "      <th>1</th>\n",
       "      <td>0 days 01:08:21.433000</td>\n",
       "      <td>VER</td>\n",
       "      <td>130.657</td>\n",
       "      <td>46.836</td>\n",
       "      <td>29.178</td>\n",
       "      <td>54.643</td>\n",
       "      <td>MEDIUM</td>\n",
       "      <td>41</td>\n",
       "      <td>2023</td>\n",
       "      <td>17.44955</td>\n",
       "      <td>54.157658</td>\n",
       "      <td>1.127027</td>\n",
       "      <td>0.0</td>\n",
       "    </tr>\n",
       "    <tr>\n",
       "      <th>2</th>\n",
       "      <td>0 days 01:09:44.824000</td>\n",
       "      <td>VER</td>\n",
       "      <td>83.391</td>\n",
       "      <td>28.900</td>\n",
       "      <td>18.326</td>\n",
       "      <td>36.165</td>\n",
       "      <td>MEDIUM</td>\n",
       "      <td>1</td>\n",
       "      <td>2023</td>\n",
       "      <td>17.44955</td>\n",
       "      <td>54.157658</td>\n",
       "      <td>1.127027</td>\n",
       "      <td>0.0</td>\n",
       "    </tr>\n",
       "    <tr>\n",
       "      <th>3</th>\n",
       "      <td>0 days 01:11:07.928000</td>\n",
       "      <td>VER</td>\n",
       "      <td>83.104</td>\n",
       "      <td>28.935</td>\n",
       "      <td>18.347</td>\n",
       "      <td>35.822</td>\n",
       "      <td>MEDIUM</td>\n",
       "      <td>1</td>\n",
       "      <td>2023</td>\n",
       "      <td>17.44955</td>\n",
       "      <td>54.157658</td>\n",
       "      <td>1.127027</td>\n",
       "      <td>0.0</td>\n",
       "    </tr>\n",
       "    <tr>\n",
       "      <th>4</th>\n",
       "      <td>0 days 01:12:30.771000</td>\n",
       "      <td>VER</td>\n",
       "      <td>82.843</td>\n",
       "      <td>28.986</td>\n",
       "      <td>17.951</td>\n",
       "      <td>35.906</td>\n",
       "      <td>MEDIUM</td>\n",
       "      <td>1</td>\n",
       "      <td>2023</td>\n",
       "      <td>17.44955</td>\n",
       "      <td>54.157658</td>\n",
       "      <td>1.127027</td>\n",
       "      <td>0.0</td>\n",
       "    </tr>\n",
       "    <tr>\n",
       "      <th>...</th>\n",
       "      <td>...</td>\n",
       "      <td>...</td>\n",
       "      <td>...</td>\n",
       "      <td>...</td>\n",
       "      <td>...</td>\n",
       "      <td>...</td>\n",
       "      <td>...</td>\n",
       "      <td>...</td>\n",
       "      <td>...</td>\n",
       "      <td>...</td>\n",
       "      <td>...</td>\n",
       "      <td>...</td>\n",
       "      <td>...</td>\n",
       "    </tr>\n",
       "    <tr>\n",
       "      <th>2056</th>\n",
       "      <td>0 days 00:15:26.930000</td>\n",
       "      <td>OCO</td>\n",
       "      <td>77.517</td>\n",
       "      <td>27.066</td>\n",
       "      <td>17.337</td>\n",
       "      <td>33.114</td>\n",
       "      <td>SOFT</td>\n",
       "      <td>1</td>\n",
       "      <td>2025</td>\n",
       "      <td>30.33600</td>\n",
       "      <td>46.146667</td>\n",
       "      <td>0.772000</td>\n",
       "      <td>0.0</td>\n",
       "    </tr>\n",
       "    <tr>\n",
       "      <th>2057</th>\n",
       "      <td>0 days 00:21:08.278000</td>\n",
       "      <td>OCO</td>\n",
       "      <td>129.804</td>\n",
       "      <td>64.408</td>\n",
       "      <td>19.093</td>\n",
       "      <td>46.303</td>\n",
       "      <td>SOFT</td>\n",
       "      <td>1</td>\n",
       "      <td>2025</td>\n",
       "      <td>30.33600</td>\n",
       "      <td>46.146667</td>\n",
       "      <td>0.772000</td>\n",
       "      <td>0.0</td>\n",
       "    </tr>\n",
       "    <tr>\n",
       "      <th>2058</th>\n",
       "      <td>0 days 00:22:25.425000</td>\n",
       "      <td>OCO</td>\n",
       "      <td>77.147</td>\n",
       "      <td>26.686</td>\n",
       "      <td>17.206</td>\n",
       "      <td>33.255</td>\n",
       "      <td>SOFT</td>\n",
       "      <td>1</td>\n",
       "      <td>2025</td>\n",
       "      <td>30.33600</td>\n",
       "      <td>46.146667</td>\n",
       "      <td>0.772000</td>\n",
       "      <td>0.0</td>\n",
       "    </tr>\n",
       "    <tr>\n",
       "      <th>2059</th>\n",
       "      <td>0 days 00:29:15.473000</td>\n",
       "      <td>OCO</td>\n",
       "      <td>130.240</td>\n",
       "      <td>66.648</td>\n",
       "      <td>21.854</td>\n",
       "      <td>41.738</td>\n",
       "      <td>SOFT</td>\n",
       "      <td>1</td>\n",
       "      <td>2025</td>\n",
       "      <td>30.33600</td>\n",
       "      <td>46.146667</td>\n",
       "      <td>0.772000</td>\n",
       "      <td>0.0</td>\n",
       "    </tr>\n",
       "    <tr>\n",
       "      <th>2060</th>\n",
       "      <td>0 days 00:30:33.159000</td>\n",
       "      <td>OCO</td>\n",
       "      <td>77.686</td>\n",
       "      <td>26.678</td>\n",
       "      <td>17.331</td>\n",
       "      <td>33.677</td>\n",
       "      <td>SOFT</td>\n",
       "      <td>1</td>\n",
       "      <td>2025</td>\n",
       "      <td>30.33600</td>\n",
       "      <td>46.146667</td>\n",
       "      <td>0.772000</td>\n",
       "      <td>0.0</td>\n",
       "    </tr>\n",
       "  </tbody>\n",
       "</table>\n",
       "<p>2061 rows × 13 columns</p>\n",
       "</div>"
      ],
      "text/plain": [
       "                       Time Driver  LapTime  Sector1Time  Sector2Time  \\\n",
       "0    0 days 01:06:10.776000    VER  132.105       48.846       31.614   \n",
       "1    0 days 01:08:21.433000    VER  130.657       46.836       29.178   \n",
       "2    0 days 01:09:44.824000    VER   83.391       28.900       18.326   \n",
       "3    0 days 01:11:07.928000    VER   83.104       28.935       18.347   \n",
       "4    0 days 01:12:30.771000    VER   82.843       28.986       17.951   \n",
       "...                     ...    ...      ...          ...          ...   \n",
       "2056 0 days 00:15:26.930000    OCO   77.517       27.066       17.337   \n",
       "2057 0 days 00:21:08.278000    OCO  129.804       64.408       19.093   \n",
       "2058 0 days 00:22:25.425000    OCO   77.147       26.686       17.206   \n",
       "2059 0 days 00:29:15.473000    OCO  130.240       66.648       21.854   \n",
       "2060 0 days 00:30:33.159000    OCO   77.686       26.678       17.331   \n",
       "\n",
       "      Sector3Time Compound TrackStatus  Year   AirTemp   Humidity  WindSpeed  \\\n",
       "0          51.645   MEDIUM           4  2023  17.44955  54.157658   1.127027   \n",
       "1          54.643   MEDIUM          41  2023  17.44955  54.157658   1.127027   \n",
       "2          36.165   MEDIUM           1  2023  17.44955  54.157658   1.127027   \n",
       "3          35.822   MEDIUM           1  2023  17.44955  54.157658   1.127027   \n",
       "4          35.906   MEDIUM           1  2023  17.44955  54.157658   1.127027   \n",
       "...           ...      ...         ...   ...       ...        ...        ...   \n",
       "2056       33.114     SOFT           1  2025  30.33600  46.146667   0.772000   \n",
       "2057       46.303     SOFT           1  2025  30.33600  46.146667   0.772000   \n",
       "2058       33.255     SOFT           1  2025  30.33600  46.146667   0.772000   \n",
       "2059       41.738     SOFT           1  2025  30.33600  46.146667   0.772000   \n",
       "2060       33.677     SOFT           1  2025  30.33600  46.146667   0.772000   \n",
       "\n",
       "      Rainfall  \n",
       "0          0.0  \n",
       "1          0.0  \n",
       "2          0.0  \n",
       "3          0.0  \n",
       "4          0.0  \n",
       "...        ...  \n",
       "2056       0.0  \n",
       "2057       0.0  \n",
       "2058       0.0  \n",
       "2059       0.0  \n",
       "2060       0.0  \n",
       "\n",
       "[2061 rows x 13 columns]"
      ]
     },
     "execution_count": 8,
     "metadata": {},
     "output_type": "execute_result"
    }
   ],
   "source": [
    "laps_combined"
   ]
  },
  {
   "cell_type": "code",
   "execution_count": 9,
   "metadata": {},
   "outputs": [
    {
     "data": {
      "text/html": [
       "<div>\n",
       "<style scoped>\n",
       "    .dataframe tbody tr th:only-of-type {\n",
       "        vertical-align: middle;\n",
       "    }\n",
       "\n",
       "    .dataframe tbody tr th {\n",
       "        vertical-align: top;\n",
       "    }\n",
       "\n",
       "    .dataframe thead th {\n",
       "        text-align: right;\n",
       "    }\n",
       "</style>\n",
       "<table border=\"1\" class=\"dataframe\">\n",
       "  <thead>\n",
       "    <tr style=\"text-align: right;\">\n",
       "      <th></th>\n",
       "      <th>DriverName</th>\n",
       "      <th>QualifyingTime</th>\n",
       "      <th>Driver</th>\n",
       "    </tr>\n",
       "  </thead>\n",
       "  <tbody>\n",
       "    <tr>\n",
       "      <th>0</th>\n",
       "      <td>Lando Norris</td>\n",
       "      <td>75.096</td>\n",
       "      <td>NOR</td>\n",
       "    </tr>\n",
       "    <tr>\n",
       "      <th>1</th>\n",
       "      <td>Oscar Piastri</td>\n",
       "      <td>75.180</td>\n",
       "      <td>PIA</td>\n",
       "    </tr>\n",
       "    <tr>\n",
       "      <th>2</th>\n",
       "      <td>Max Verstappen</td>\n",
       "      <td>75.481</td>\n",
       "      <td>VER</td>\n",
       "    </tr>\n",
       "    <tr>\n",
       "      <th>3</th>\n",
       "      <td>George Russell</td>\n",
       "      <td>75.546</td>\n",
       "      <td>RUS</td>\n",
       "    </tr>\n",
       "    <tr>\n",
       "      <th>4</th>\n",
       "      <td>Yuki Tsunoda</td>\n",
       "      <td>75.670</td>\n",
       "      <td>TSU</td>\n",
       "    </tr>\n",
       "    <tr>\n",
       "      <th>5</th>\n",
       "      <td>Alexander Albon</td>\n",
       "      <td>75.737</td>\n",
       "      <td>ALB</td>\n",
       "    </tr>\n",
       "    <tr>\n",
       "      <th>6</th>\n",
       "      <td>Charles Leclerc</td>\n",
       "      <td>75.755</td>\n",
       "      <td>LEC</td>\n",
       "    </tr>\n",
       "    <tr>\n",
       "      <th>7</th>\n",
       "      <td>Lewis Hamilton</td>\n",
       "      <td>75.973</td>\n",
       "      <td>HAM</td>\n",
       "    </tr>\n",
       "    <tr>\n",
       "      <th>8</th>\n",
       "      <td>Pierre Gasly</td>\n",
       "      <td>75.980</td>\n",
       "      <td>GAS</td>\n",
       "    </tr>\n",
       "    <tr>\n",
       "      <th>9</th>\n",
       "      <td>Carlos Sainz</td>\n",
       "      <td>76.062</td>\n",
       "      <td>NaN</td>\n",
       "    </tr>\n",
       "    <tr>\n",
       "      <th>10</th>\n",
       "      <td>Fernando Alonso</td>\n",
       "      <td>76.400</td>\n",
       "      <td>ALO</td>\n",
       "    </tr>\n",
       "    <tr>\n",
       "      <th>11</th>\n",
       "      <td>Lance Stroll</td>\n",
       "      <td>76.500</td>\n",
       "      <td>STR</td>\n",
       "    </tr>\n",
       "  </tbody>\n",
       "</table>\n",
       "</div>"
      ],
      "text/plain": [
       "         DriverName  QualifyingTime Driver\n",
       "0      Lando Norris          75.096    NOR\n",
       "1     Oscar Piastri          75.180    PIA\n",
       "2    Max Verstappen          75.481    VER\n",
       "3    George Russell          75.546    RUS\n",
       "4      Yuki Tsunoda          75.670    TSU\n",
       "5   Alexander Albon          75.737    ALB\n",
       "6   Charles Leclerc          75.755    LEC\n",
       "7    Lewis Hamilton          75.973    HAM\n",
       "8      Pierre Gasly          75.980    GAS\n",
       "9      Carlos Sainz          76.062    NaN\n",
       "10  Fernando Alonso          76.400    ALO\n",
       "11     Lance Stroll          76.500    STR"
      ]
     },
     "execution_count": 9,
     "metadata": {},
     "output_type": "execute_result"
    }
   ],
   "source": [
    "from utils import driver_mapping, driver_number_mapping\n",
    "\n",
    "qualifying_2025 = pd.DataFrame(\n",
    "    {\n",
    "        \"DriverName\": [\n",
    "            \"Lando Norris\",\n",
    "            \"Oscar Piastri\",\n",
    "            \"Max Verstappen\",\n",
    "            \"George Russell\",\n",
    "            \"Yuki Tsunoda\",\n",
    "            \"Alexander Albon\",\n",
    "            \"Charles Leclerc\",\n",
    "            \"Lewis Hamilton\",\n",
    "            \"Pierre Gasly\",\n",
    "            \"Carlos Sainz\",\n",
    "            \"Fernando Alonso\",\n",
    "            \"Lance Stroll\",\n",
    "        ],\n",
    "        \"QualifyingTime\": [\n",
    "            75.096,\n",
    "            75.180,\n",
    "            75.481,\n",
    "            75.546,\n",
    "            75.670,\n",
    "            75.737,\n",
    "            75.755,\n",
    "            75.973,\n",
    "            75.980,\n",
    "            76.062,\n",
    "            76.4,\n",
    "            76.5,\n",
    "        ],\n",
    "    }\n",
    ")\n",
    "\n",
    "qualifying_2025['Driver'] = qualifying_2025['DriverName'].map(driver_mapping)\n",
    "qualifying_2025"
   ]
  },
  {
   "cell_type": "code",
   "execution_count": 10,
   "metadata": {},
   "outputs": [
    {
     "data": {
      "text/html": [
       "<div>\n",
       "<style scoped>\n",
       "    .dataframe tbody tr th:only-of-type {\n",
       "        vertical-align: middle;\n",
       "    }\n",
       "\n",
       "    .dataframe tbody tr th {\n",
       "        vertical-align: top;\n",
       "    }\n",
       "\n",
       "    .dataframe thead th {\n",
       "        text-align: right;\n",
       "    }\n",
       "</style>\n",
       "<table border=\"1\" class=\"dataframe\">\n",
       "  <thead>\n",
       "    <tr style=\"text-align: right;\">\n",
       "      <th></th>\n",
       "      <th>Time</th>\n",
       "      <th>Driver</th>\n",
       "      <th>LapTime</th>\n",
       "      <th>Sector1Time</th>\n",
       "      <th>Sector2Time</th>\n",
       "      <th>Sector3Time</th>\n",
       "      <th>Compound</th>\n",
       "      <th>TrackStatus</th>\n",
       "      <th>Year</th>\n",
       "      <th>AirTemp</th>\n",
       "      <th>Humidity</th>\n",
       "      <th>WindSpeed</th>\n",
       "      <th>Rainfall</th>\n",
       "      <th>QualifyingTime</th>\n",
       "    </tr>\n",
       "  </thead>\n",
       "  <tbody>\n",
       "    <tr>\n",
       "      <th>0</th>\n",
       "      <td>0 days 01:06:10.776000</td>\n",
       "      <td>VER</td>\n",
       "      <td>132.105</td>\n",
       "      <td>48.846</td>\n",
       "      <td>31.614</td>\n",
       "      <td>51.645</td>\n",
       "      <td>MEDIUM</td>\n",
       "      <td>4</td>\n",
       "      <td>2023</td>\n",
       "      <td>17.44955</td>\n",
       "      <td>54.157658</td>\n",
       "      <td>1.127027</td>\n",
       "      <td>0.0</td>\n",
       "      <td>75.481</td>\n",
       "    </tr>\n",
       "    <tr>\n",
       "      <th>1</th>\n",
       "      <td>0 days 01:08:21.433000</td>\n",
       "      <td>VER</td>\n",
       "      <td>130.657</td>\n",
       "      <td>46.836</td>\n",
       "      <td>29.178</td>\n",
       "      <td>54.643</td>\n",
       "      <td>MEDIUM</td>\n",
       "      <td>41</td>\n",
       "      <td>2023</td>\n",
       "      <td>17.44955</td>\n",
       "      <td>54.157658</td>\n",
       "      <td>1.127027</td>\n",
       "      <td>0.0</td>\n",
       "      <td>75.481</td>\n",
       "    </tr>\n",
       "    <tr>\n",
       "      <th>2</th>\n",
       "      <td>0 days 01:09:44.824000</td>\n",
       "      <td>VER</td>\n",
       "      <td>83.391</td>\n",
       "      <td>28.900</td>\n",
       "      <td>18.326</td>\n",
       "      <td>36.165</td>\n",
       "      <td>MEDIUM</td>\n",
       "      <td>1</td>\n",
       "      <td>2023</td>\n",
       "      <td>17.44955</td>\n",
       "      <td>54.157658</td>\n",
       "      <td>1.127027</td>\n",
       "      <td>0.0</td>\n",
       "      <td>75.481</td>\n",
       "    </tr>\n",
       "    <tr>\n",
       "      <th>3</th>\n",
       "      <td>0 days 01:11:07.928000</td>\n",
       "      <td>VER</td>\n",
       "      <td>83.104</td>\n",
       "      <td>28.935</td>\n",
       "      <td>18.347</td>\n",
       "      <td>35.822</td>\n",
       "      <td>MEDIUM</td>\n",
       "      <td>1</td>\n",
       "      <td>2023</td>\n",
       "      <td>17.44955</td>\n",
       "      <td>54.157658</td>\n",
       "      <td>1.127027</td>\n",
       "      <td>0.0</td>\n",
       "      <td>75.481</td>\n",
       "    </tr>\n",
       "    <tr>\n",
       "      <th>4</th>\n",
       "      <td>0 days 01:12:30.771000</td>\n",
       "      <td>VER</td>\n",
       "      <td>82.843</td>\n",
       "      <td>28.986</td>\n",
       "      <td>17.951</td>\n",
       "      <td>35.906</td>\n",
       "      <td>MEDIUM</td>\n",
       "      <td>1</td>\n",
       "      <td>2023</td>\n",
       "      <td>17.44955</td>\n",
       "      <td>54.157658</td>\n",
       "      <td>1.127027</td>\n",
       "      <td>0.0</td>\n",
       "      <td>75.481</td>\n",
       "    </tr>\n",
       "    <tr>\n",
       "      <th>...</th>\n",
       "      <td>...</td>\n",
       "      <td>...</td>\n",
       "      <td>...</td>\n",
       "      <td>...</td>\n",
       "      <td>...</td>\n",
       "      <td>...</td>\n",
       "      <td>...</td>\n",
       "      <td>...</td>\n",
       "      <td>...</td>\n",
       "      <td>...</td>\n",
       "      <td>...</td>\n",
       "      <td>...</td>\n",
       "      <td>...</td>\n",
       "      <td>...</td>\n",
       "    </tr>\n",
       "    <tr>\n",
       "      <th>2056</th>\n",
       "      <td>0 days 00:15:26.930000</td>\n",
       "      <td>OCO</td>\n",
       "      <td>77.517</td>\n",
       "      <td>27.066</td>\n",
       "      <td>17.337</td>\n",
       "      <td>33.114</td>\n",
       "      <td>SOFT</td>\n",
       "      <td>1</td>\n",
       "      <td>2025</td>\n",
       "      <td>30.33600</td>\n",
       "      <td>46.146667</td>\n",
       "      <td>0.772000</td>\n",
       "      <td>0.0</td>\n",
       "      <td>NaN</td>\n",
       "    </tr>\n",
       "    <tr>\n",
       "      <th>2057</th>\n",
       "      <td>0 days 00:21:08.278000</td>\n",
       "      <td>OCO</td>\n",
       "      <td>129.804</td>\n",
       "      <td>64.408</td>\n",
       "      <td>19.093</td>\n",
       "      <td>46.303</td>\n",
       "      <td>SOFT</td>\n",
       "      <td>1</td>\n",
       "      <td>2025</td>\n",
       "      <td>30.33600</td>\n",
       "      <td>46.146667</td>\n",
       "      <td>0.772000</td>\n",
       "      <td>0.0</td>\n",
       "      <td>NaN</td>\n",
       "    </tr>\n",
       "    <tr>\n",
       "      <th>2058</th>\n",
       "      <td>0 days 00:22:25.425000</td>\n",
       "      <td>OCO</td>\n",
       "      <td>77.147</td>\n",
       "      <td>26.686</td>\n",
       "      <td>17.206</td>\n",
       "      <td>33.255</td>\n",
       "      <td>SOFT</td>\n",
       "      <td>1</td>\n",
       "      <td>2025</td>\n",
       "      <td>30.33600</td>\n",
       "      <td>46.146667</td>\n",
       "      <td>0.772000</td>\n",
       "      <td>0.0</td>\n",
       "      <td>NaN</td>\n",
       "    </tr>\n",
       "    <tr>\n",
       "      <th>2059</th>\n",
       "      <td>0 days 00:29:15.473000</td>\n",
       "      <td>OCO</td>\n",
       "      <td>130.240</td>\n",
       "      <td>66.648</td>\n",
       "      <td>21.854</td>\n",
       "      <td>41.738</td>\n",
       "      <td>SOFT</td>\n",
       "      <td>1</td>\n",
       "      <td>2025</td>\n",
       "      <td>30.33600</td>\n",
       "      <td>46.146667</td>\n",
       "      <td>0.772000</td>\n",
       "      <td>0.0</td>\n",
       "      <td>NaN</td>\n",
       "    </tr>\n",
       "    <tr>\n",
       "      <th>2060</th>\n",
       "      <td>0 days 00:30:33.159000</td>\n",
       "      <td>OCO</td>\n",
       "      <td>77.686</td>\n",
       "      <td>26.678</td>\n",
       "      <td>17.331</td>\n",
       "      <td>33.677</td>\n",
       "      <td>SOFT</td>\n",
       "      <td>1</td>\n",
       "      <td>2025</td>\n",
       "      <td>30.33600</td>\n",
       "      <td>46.146667</td>\n",
       "      <td>0.772000</td>\n",
       "      <td>0.0</td>\n",
       "      <td>NaN</td>\n",
       "    </tr>\n",
       "  </tbody>\n",
       "</table>\n",
       "<p>2061 rows × 14 columns</p>\n",
       "</div>"
      ],
      "text/plain": [
       "                       Time Driver  LapTime  Sector1Time  Sector2Time  \\\n",
       "0    0 days 01:06:10.776000    VER  132.105       48.846       31.614   \n",
       "1    0 days 01:08:21.433000    VER  130.657       46.836       29.178   \n",
       "2    0 days 01:09:44.824000    VER   83.391       28.900       18.326   \n",
       "3    0 days 01:11:07.928000    VER   83.104       28.935       18.347   \n",
       "4    0 days 01:12:30.771000    VER   82.843       28.986       17.951   \n",
       "...                     ...    ...      ...          ...          ...   \n",
       "2056 0 days 00:15:26.930000    OCO   77.517       27.066       17.337   \n",
       "2057 0 days 00:21:08.278000    OCO  129.804       64.408       19.093   \n",
       "2058 0 days 00:22:25.425000    OCO   77.147       26.686       17.206   \n",
       "2059 0 days 00:29:15.473000    OCO  130.240       66.648       21.854   \n",
       "2060 0 days 00:30:33.159000    OCO   77.686       26.678       17.331   \n",
       "\n",
       "      Sector3Time Compound TrackStatus  Year   AirTemp   Humidity  WindSpeed  \\\n",
       "0          51.645   MEDIUM           4  2023  17.44955  54.157658   1.127027   \n",
       "1          54.643   MEDIUM          41  2023  17.44955  54.157658   1.127027   \n",
       "2          36.165   MEDIUM           1  2023  17.44955  54.157658   1.127027   \n",
       "3          35.822   MEDIUM           1  2023  17.44955  54.157658   1.127027   \n",
       "4          35.906   MEDIUM           1  2023  17.44955  54.157658   1.127027   \n",
       "...           ...      ...         ...   ...       ...        ...        ...   \n",
       "2056       33.114     SOFT           1  2025  30.33600  46.146667   0.772000   \n",
       "2057       46.303     SOFT           1  2025  30.33600  46.146667   0.772000   \n",
       "2058       33.255     SOFT           1  2025  30.33600  46.146667   0.772000   \n",
       "2059       41.738     SOFT           1  2025  30.33600  46.146667   0.772000   \n",
       "2060       33.677     SOFT           1  2025  30.33600  46.146667   0.772000   \n",
       "\n",
       "      Rainfall  QualifyingTime  \n",
       "0          0.0          75.481  \n",
       "1          0.0          75.481  \n",
       "2          0.0          75.481  \n",
       "3          0.0          75.481  \n",
       "4          0.0          75.481  \n",
       "...        ...             ...  \n",
       "2056       0.0             NaN  \n",
       "2057       0.0             NaN  \n",
       "2058       0.0             NaN  \n",
       "2059       0.0             NaN  \n",
       "2060       0.0             NaN  \n",
       "\n",
       "[2061 rows x 14 columns]"
      ]
     },
     "execution_count": 10,
     "metadata": {},
     "output_type": "execute_result"
    }
   ],
   "source": [
    "# merge qualifying data with laps data\n",
    "merged_dat = laps_combined.merge(\n",
    "    qualifying_2025[[\"Driver\", \"QualifyingTime\"]],\n",
    "    on=\"Driver\",\n",
    "    how=\"left\",\n",
    ")\n",
    "merged_dat"
   ]
  },
  {
   "cell_type": "code",
   "execution_count": 11,
   "metadata": {},
   "outputs": [
    {
     "data": {
      "text/html": [
       "<div>\n",
       "<style scoped>\n",
       "    .dataframe tbody tr th:only-of-type {\n",
       "        vertical-align: middle;\n",
       "    }\n",
       "\n",
       "    .dataframe tbody tr th {\n",
       "        vertical-align: top;\n",
       "    }\n",
       "\n",
       "    .dataframe thead th {\n",
       "        text-align: right;\n",
       "    }\n",
       "</style>\n",
       "<table border=\"1\" class=\"dataframe\">\n",
       "  <thead>\n",
       "    <tr style=\"text-align: right;\">\n",
       "      <th></th>\n",
       "      <th>Time</th>\n",
       "      <th>Driver</th>\n",
       "      <th>LapTime</th>\n",
       "      <th>Sector1Time</th>\n",
       "      <th>Sector2Time</th>\n",
       "      <th>Sector3Time</th>\n",
       "      <th>Compound</th>\n",
       "      <th>TrackStatus</th>\n",
       "      <th>Year</th>\n",
       "      <th>AirTemp</th>\n",
       "      <th>Humidity</th>\n",
       "      <th>WindSpeed</th>\n",
       "      <th>Rainfall</th>\n",
       "      <th>QualifyingTime</th>\n",
       "    </tr>\n",
       "  </thead>\n",
       "  <tbody>\n",
       "    <tr>\n",
       "      <th>102</th>\n",
       "      <td>0 days 01:06:40.985000</td>\n",
       "      <td>PER</td>\n",
       "      <td>131.789</td>\n",
       "      <td>41.480</td>\n",
       "      <td>27.181</td>\n",
       "      <td>63.128</td>\n",
       "      <td>MEDIUM</td>\n",
       "      <td>4</td>\n",
       "      <td>2023</td>\n",
       "      <td>17.44955</td>\n",
       "      <td>54.157658</td>\n",
       "      <td>1.127027</td>\n",
       "      <td>0.0</td>\n",
       "      <td>NaN</td>\n",
       "    </tr>\n",
       "    <tr>\n",
       "      <th>103</th>\n",
       "      <td>0 days 01:08:31.634000</td>\n",
       "      <td>PER</td>\n",
       "      <td>110.649</td>\n",
       "      <td>36.623</td>\n",
       "      <td>27.351</td>\n",
       "      <td>46.675</td>\n",
       "      <td>HARD</td>\n",
       "      <td>41</td>\n",
       "      <td>2023</td>\n",
       "      <td>17.44955</td>\n",
       "      <td>54.157658</td>\n",
       "      <td>1.127027</td>\n",
       "      <td>0.0</td>\n",
       "      <td>NaN</td>\n",
       "    </tr>\n",
       "    <tr>\n",
       "      <th>104</th>\n",
       "      <td>0 days 01:09:56.742000</td>\n",
       "      <td>PER</td>\n",
       "      <td>85.108</td>\n",
       "      <td>30.170</td>\n",
       "      <td>18.498</td>\n",
       "      <td>36.440</td>\n",
       "      <td>HARD</td>\n",
       "      <td>1</td>\n",
       "      <td>2023</td>\n",
       "      <td>17.44955</td>\n",
       "      <td>54.157658</td>\n",
       "      <td>1.127027</td>\n",
       "      <td>0.0</td>\n",
       "      <td>NaN</td>\n",
       "    </tr>\n",
       "    <tr>\n",
       "      <th>105</th>\n",
       "      <td>0 days 01:11:21.243000</td>\n",
       "      <td>PER</td>\n",
       "      <td>84.501</td>\n",
       "      <td>29.362</td>\n",
       "      <td>18.331</td>\n",
       "      <td>36.808</td>\n",
       "      <td>HARD</td>\n",
       "      <td>1</td>\n",
       "      <td>2023</td>\n",
       "      <td>17.44955</td>\n",
       "      <td>54.157658</td>\n",
       "      <td>1.127027</td>\n",
       "      <td>0.0</td>\n",
       "      <td>NaN</td>\n",
       "    </tr>\n",
       "    <tr>\n",
       "      <th>106</th>\n",
       "      <td>0 days 01:12:44.827000</td>\n",
       "      <td>PER</td>\n",
       "      <td>83.584</td>\n",
       "      <td>29.470</td>\n",
       "      <td>18.053</td>\n",
       "      <td>36.061</td>\n",
       "      <td>HARD</td>\n",
       "      <td>1</td>\n",
       "      <td>2023</td>\n",
       "      <td>17.44955</td>\n",
       "      <td>54.157658</td>\n",
       "      <td>1.127027</td>\n",
       "      <td>0.0</td>\n",
       "      <td>NaN</td>\n",
       "    </tr>\n",
       "    <tr>\n",
       "      <th>...</th>\n",
       "      <td>...</td>\n",
       "      <td>...</td>\n",
       "      <td>...</td>\n",
       "      <td>...</td>\n",
       "      <td>...</td>\n",
       "      <td>...</td>\n",
       "      <td>...</td>\n",
       "      <td>...</td>\n",
       "      <td>...</td>\n",
       "      <td>...</td>\n",
       "      <td>...</td>\n",
       "      <td>...</td>\n",
       "      <td>...</td>\n",
       "      <td>...</td>\n",
       "    </tr>\n",
       "    <tr>\n",
       "      <th>2056</th>\n",
       "      <td>0 days 00:15:26.930000</td>\n",
       "      <td>OCO</td>\n",
       "      <td>77.517</td>\n",
       "      <td>27.066</td>\n",
       "      <td>17.337</td>\n",
       "      <td>33.114</td>\n",
       "      <td>SOFT</td>\n",
       "      <td>1</td>\n",
       "      <td>2025</td>\n",
       "      <td>30.33600</td>\n",
       "      <td>46.146667</td>\n",
       "      <td>0.772000</td>\n",
       "      <td>0.0</td>\n",
       "      <td>NaN</td>\n",
       "    </tr>\n",
       "    <tr>\n",
       "      <th>2057</th>\n",
       "      <td>0 days 00:21:08.278000</td>\n",
       "      <td>OCO</td>\n",
       "      <td>129.804</td>\n",
       "      <td>64.408</td>\n",
       "      <td>19.093</td>\n",
       "      <td>46.303</td>\n",
       "      <td>SOFT</td>\n",
       "      <td>1</td>\n",
       "      <td>2025</td>\n",
       "      <td>30.33600</td>\n",
       "      <td>46.146667</td>\n",
       "      <td>0.772000</td>\n",
       "      <td>0.0</td>\n",
       "      <td>NaN</td>\n",
       "    </tr>\n",
       "    <tr>\n",
       "      <th>2058</th>\n",
       "      <td>0 days 00:22:25.425000</td>\n",
       "      <td>OCO</td>\n",
       "      <td>77.147</td>\n",
       "      <td>26.686</td>\n",
       "      <td>17.206</td>\n",
       "      <td>33.255</td>\n",
       "      <td>SOFT</td>\n",
       "      <td>1</td>\n",
       "      <td>2025</td>\n",
       "      <td>30.33600</td>\n",
       "      <td>46.146667</td>\n",
       "      <td>0.772000</td>\n",
       "      <td>0.0</td>\n",
       "      <td>NaN</td>\n",
       "    </tr>\n",
       "    <tr>\n",
       "      <th>2059</th>\n",
       "      <td>0 days 00:29:15.473000</td>\n",
       "      <td>OCO</td>\n",
       "      <td>130.240</td>\n",
       "      <td>66.648</td>\n",
       "      <td>21.854</td>\n",
       "      <td>41.738</td>\n",
       "      <td>SOFT</td>\n",
       "      <td>1</td>\n",
       "      <td>2025</td>\n",
       "      <td>30.33600</td>\n",
       "      <td>46.146667</td>\n",
       "      <td>0.772000</td>\n",
       "      <td>0.0</td>\n",
       "      <td>NaN</td>\n",
       "    </tr>\n",
       "    <tr>\n",
       "      <th>2060</th>\n",
       "      <td>0 days 00:30:33.159000</td>\n",
       "      <td>OCO</td>\n",
       "      <td>77.686</td>\n",
       "      <td>26.678</td>\n",
       "      <td>17.331</td>\n",
       "      <td>33.677</td>\n",
       "      <td>SOFT</td>\n",
       "      <td>1</td>\n",
       "      <td>2025</td>\n",
       "      <td>30.33600</td>\n",
       "      <td>46.146667</td>\n",
       "      <td>0.772000</td>\n",
       "      <td>0.0</td>\n",
       "      <td>NaN</td>\n",
       "    </tr>\n",
       "  </tbody>\n",
       "</table>\n",
       "<p>969 rows × 14 columns</p>\n",
       "</div>"
      ],
      "text/plain": [
       "                       Time Driver  LapTime  Sector1Time  Sector2Time  \\\n",
       "102  0 days 01:06:40.985000    PER  131.789       41.480       27.181   \n",
       "103  0 days 01:08:31.634000    PER  110.649       36.623       27.351   \n",
       "104  0 days 01:09:56.742000    PER   85.108       30.170       18.498   \n",
       "105  0 days 01:11:21.243000    PER   84.501       29.362       18.331   \n",
       "106  0 days 01:12:44.827000    PER   83.584       29.470       18.053   \n",
       "...                     ...    ...      ...          ...          ...   \n",
       "2056 0 days 00:15:26.930000    OCO   77.517       27.066       17.337   \n",
       "2057 0 days 00:21:08.278000    OCO  129.804       64.408       19.093   \n",
       "2058 0 days 00:22:25.425000    OCO   77.147       26.686       17.206   \n",
       "2059 0 days 00:29:15.473000    OCO  130.240       66.648       21.854   \n",
       "2060 0 days 00:30:33.159000    OCO   77.686       26.678       17.331   \n",
       "\n",
       "      Sector3Time Compound TrackStatus  Year   AirTemp   Humidity  WindSpeed  \\\n",
       "102        63.128   MEDIUM           4  2023  17.44955  54.157658   1.127027   \n",
       "103        46.675     HARD          41  2023  17.44955  54.157658   1.127027   \n",
       "104        36.440     HARD           1  2023  17.44955  54.157658   1.127027   \n",
       "105        36.808     HARD           1  2023  17.44955  54.157658   1.127027   \n",
       "106        36.061     HARD           1  2023  17.44955  54.157658   1.127027   \n",
       "...           ...      ...         ...   ...       ...        ...        ...   \n",
       "2056       33.114     SOFT           1  2025  30.33600  46.146667   0.772000   \n",
       "2057       46.303     SOFT           1  2025  30.33600  46.146667   0.772000   \n",
       "2058       33.255     SOFT           1  2025  30.33600  46.146667   0.772000   \n",
       "2059       41.738     SOFT           1  2025  30.33600  46.146667   0.772000   \n",
       "2060       33.677     SOFT           1  2025  30.33600  46.146667   0.772000   \n",
       "\n",
       "      Rainfall  QualifyingTime  \n",
       "102        0.0             NaN  \n",
       "103        0.0             NaN  \n",
       "104        0.0             NaN  \n",
       "105        0.0             NaN  \n",
       "106        0.0             NaN  \n",
       "...        ...             ...  \n",
       "2056       0.0             NaN  \n",
       "2057       0.0             NaN  \n",
       "2058       0.0             NaN  \n",
       "2059       0.0             NaN  \n",
       "2060       0.0             NaN  \n",
       "\n",
       "[969 rows x 14 columns]"
      ]
     },
     "execution_count": 11,
     "metadata": {},
     "output_type": "execute_result"
    }
   ],
   "source": [
    "merged_dat[merged_dat['QualifyingTime'].isnull()]"
   ]
  },
  {
   "cell_type": "code",
   "execution_count": 12,
   "metadata": {},
   "outputs": [
    {
     "data": {
      "text/plain": [
       "Time              0\n",
       "Driver            0\n",
       "LapTime           0\n",
       "Sector1Time       0\n",
       "Sector2Time       0\n",
       "Sector3Time       0\n",
       "Compound          0\n",
       "TrackStatus       0\n",
       "Year              0\n",
       "AirTemp           0\n",
       "Humidity          0\n",
       "WindSpeed         0\n",
       "Rainfall          0\n",
       "QualifyingTime    0\n",
       "dtype: int64"
      ]
     },
     "execution_count": 12,
     "metadata": {},
     "output_type": "execute_result"
    }
   ],
   "source": [
    "merged_dat.dropna(subset=[\"QualifyingTime\"], inplace=True)\n",
    "merged_dat.isnull().sum()"
   ]
  },
  {
   "cell_type": "code",
   "execution_count": 13,
   "metadata": {},
   "outputs": [
    {
     "name": "stdout",
     "output_type": "stream",
     "text": [
      "<class 'fastf1.core.Laps'>\n",
      "Index: 1092 entries, 0 to 2018\n",
      "Data columns (total 14 columns):\n",
      " #   Column          Non-Null Count  Dtype          \n",
      "---  ------          --------------  -----          \n",
      " 0   Time            1092 non-null   timedelta64[ns]\n",
      " 1   Driver          1092 non-null   object         \n",
      " 2   LapTime         1092 non-null   float64        \n",
      " 3   Sector1Time     1092 non-null   float64        \n",
      " 4   Sector2Time     1092 non-null   float64        \n",
      " 5   Sector3Time     1092 non-null   float64        \n",
      " 6   Compound        1092 non-null   object         \n",
      " 7   TrackStatus     1092 non-null   object         \n",
      " 8   Year            1092 non-null   int64          \n",
      " 9   AirTemp         1092 non-null   float64        \n",
      " 10  Humidity        1092 non-null   float64        \n",
      " 11  WindSpeed       1092 non-null   float64        \n",
      " 12  Rainfall        1092 non-null   float64        \n",
      " 13  QualifyingTime  1092 non-null   float64        \n",
      "dtypes: float64(9), int64(1), object(3), timedelta64[ns](1)\n",
      "memory usage: 128.0+ KB\n"
     ]
    }
   ],
   "source": [
    "merged_dat.info()"
   ]
  },
  {
   "cell_type": "code",
   "execution_count": 14,
   "metadata": {},
   "outputs": [
    {
     "name": "stdout",
     "output_type": "stream",
     "text": [
      "X.shape(1092, 11)\n",
      "y.shape(1092,)\n"
     ]
    }
   ],
   "source": [
    "numeric_columns = [\n",
    "    \"QualifyingTime\",\n",
    "    \"Sector1Time\",\n",
    "    \"Sector2Time\",\n",
    "    \"Sector3Time\",\n",
    "    \"AirTemp\",\n",
    "    \"Humidity\",\n",
    "    \"WindSpeed\",\n",
    "]\n",
    "categorical_columns = [\"Driver\", \"Compound\", \"TrackStatus\", \"Rainfall\"]\n",
    "# Convert categorical columns to category type\n",
    "for col in categorical_columns:\n",
    "    if col == \"Driver\":\n",
    "        merged_dat[col] = merged_dat[col].map(driver_number_mapping)\n",
    "    merged_dat[col] = pd.Categorical(merged_dat[col]).codes\n",
    "\n",
    "X = merged_dat[numeric_columns + categorical_columns]\n",
    "y = merged_dat[\"LapTime\"]\n",
    "\n",
    "print(\"X.shape\" + str(X.shape))\n",
    "print(\"y.shape\" + str(y.shape))"
   ]
  },
  {
   "cell_type": "code",
   "execution_count": 15,
   "metadata": {},
   "outputs": [
    {
     "name": "stdout",
     "output_type": "stream",
     "text": [
      "X_train.shape(873, 11)\n",
      "y_train.shape(873,)\n",
      "X_test.shape(219, 11)\n",
      "y_test.shape(219,)\n"
     ]
    }
   ],
   "source": [
    "X_train, X_test, y_train, y_test = train_test_split(X, y, test_size=0.2, random_state=42)\n",
    "print(\"X_train.shape\" + str(X_train.shape))\n",
    "print(\"y_train.shape\" + str(y_train.shape))\n",
    "print(\"X_test.shape\" + str(X_test.shape))\n",
    "print(\"y_test.shape\" + str(y_test.shape))"
   ]
  },
  {
   "cell_type": "code",
   "execution_count": 16,
   "metadata": {},
   "outputs": [
    {
     "name": "stdout",
     "output_type": "stream",
     "text": [
      "Mean Absolute Error: 0.54 seconds\n"
     ]
    },
    {
     "data": {
      "text/html": [
       "<div>\n",
       "<style scoped>\n",
       "    .dataframe tbody tr th:only-of-type {\n",
       "        vertical-align: middle;\n",
       "    }\n",
       "\n",
       "    .dataframe tbody tr th {\n",
       "        vertical-align: top;\n",
       "    }\n",
       "\n",
       "    .dataframe thead th {\n",
       "        text-align: right;\n",
       "    }\n",
       "</style>\n",
       "<table border=\"1\" class=\"dataframe\">\n",
       "  <thead>\n",
       "    <tr style=\"text-align: right;\">\n",
       "      <th></th>\n",
       "      <th>Feature</th>\n",
       "      <th>Importance</th>\n",
       "    </tr>\n",
       "  </thead>\n",
       "  <tbody>\n",
       "    <tr>\n",
       "      <th>1</th>\n",
       "      <td>Sector1Time</td>\n",
       "      <td>0.765524</td>\n",
       "    </tr>\n",
       "    <tr>\n",
       "      <th>3</th>\n",
       "      <td>Sector3Time</td>\n",
       "      <td>0.175768</td>\n",
       "    </tr>\n",
       "    <tr>\n",
       "      <th>2</th>\n",
       "      <td>Sector2Time</td>\n",
       "      <td>0.057104</td>\n",
       "    </tr>\n",
       "    <tr>\n",
       "      <th>9</th>\n",
       "      <td>TrackStatus</td>\n",
       "      <td>0.000948</td>\n",
       "    </tr>\n",
       "    <tr>\n",
       "      <th>6</th>\n",
       "      <td>WindSpeed</td>\n",
       "      <td>0.000389</td>\n",
       "    </tr>\n",
       "    <tr>\n",
       "      <th>0</th>\n",
       "      <td>QualifyingTime</td>\n",
       "      <td>0.000100</td>\n",
       "    </tr>\n",
       "    <tr>\n",
       "      <th>7</th>\n",
       "      <td>Driver</td>\n",
       "      <td>0.000078</td>\n",
       "    </tr>\n",
       "    <tr>\n",
       "      <th>4</th>\n",
       "      <td>AirTemp</td>\n",
       "      <td>0.000067</td>\n",
       "    </tr>\n",
       "    <tr>\n",
       "      <th>8</th>\n",
       "      <td>Compound</td>\n",
       "      <td>0.000018</td>\n",
       "    </tr>\n",
       "    <tr>\n",
       "      <th>5</th>\n",
       "      <td>Humidity</td>\n",
       "      <td>0.000002</td>\n",
       "    </tr>\n",
       "    <tr>\n",
       "      <th>10</th>\n",
       "      <td>Rainfall</td>\n",
       "      <td>0.000000</td>\n",
       "    </tr>\n",
       "  </tbody>\n",
       "</table>\n",
       "</div>"
      ],
      "text/plain": [
       "           Feature  Importance\n",
       "1      Sector1Time    0.765524\n",
       "3      Sector3Time    0.175768\n",
       "2      Sector2Time    0.057104\n",
       "9      TrackStatus    0.000948\n",
       "6        WindSpeed    0.000389\n",
       "0   QualifyingTime    0.000100\n",
       "7           Driver    0.000078\n",
       "4          AirTemp    0.000067\n",
       "8         Compound    0.000018\n",
       "5         Humidity    0.000002\n",
       "10        Rainfall    0.000000"
      ]
     },
     "execution_count": 16,
     "metadata": {},
     "output_type": "execute_result"
    }
   ],
   "source": [
    "model = GradientBoostingRegressor(\n",
    "    n_estimators=150,\n",
    "    learning_rate=0.1,\n",
    "    max_depth=3,\n",
    "    random_state=42,\n",
    ")\n",
    "model.fit(X_train, y_train)\n",
    "y_pred = model.predict(X_test)\n",
    "mae = mean_absolute_error(y_test, y_pred)\n",
    "print(f\"Mean Absolute Error: {mae:.2f} seconds\")\n",
    "# Feature importance\n",
    "importances = model.feature_importances_\n",
    "feature_names = numeric_columns + categorical_columns\n",
    "feature_importance_df = pd.DataFrame(\n",
    "    {\"Feature\": feature_names, \"Importance\": importances}\n",
    ").sort_values(by=\"Importance\", ascending=False)\n",
    "feature_importance_df"
   ]
  },
  {
   "cell_type": "code",
   "execution_count": 17,
   "metadata": {},
   "outputs": [
    {
     "data": {
      "application/vnd.plotly.v1+json": {
       "config": {
        "plotlyServerURL": "https://plot.ly"
       },
       "data": [
        {
         "hovertemplate": "Importance=%{marker.color}<br>Feature=%{y}<extra></extra>",
         "legendgroup": "",
         "marker": {
          "color": {
           "bdata": "nhqzICx/6D8ei17bkn/GP8Dcr2K2PK0/NDAffecSTz+fGCN37n85P5eXrt1iTho/xLMcPfOBFD/CRgKu1aERP2Xs52adVvM+6cGHEQwwwz4AAAAAAAAAAA==",
           "dtype": "f8"
          },
          "coloraxis": "coloraxis",
          "pattern": {
           "shape": ""
          }
         },
         "name": "",
         "orientation": "h",
         "showlegend": false,
         "textposition": "auto",
         "texttemplate": "%{x}",
         "type": "bar",
         "x": {
          "bdata": "nhqzICx/6D8ei17bkn/GP8Dcr2K2PK0/NDAffecSTz+fGCN37n85P5eXrt1iTho/xLMcPfOBFD/CRgKu1aERP2Xs52adVvM+6cGHEQwwwz4AAAAAAAAAAA==",
          "dtype": "f8"
         },
         "xaxis": "x",
         "y": [
          "Sector1Time",
          "Sector3Time",
          "Sector2Time",
          "TrackStatus",
          "WindSpeed",
          "QualifyingTime",
          "Driver",
          "AirTemp",
          "Compound",
          "Humidity",
          "Rainfall"
         ],
         "yaxis": "y"
        }
       ],
       "layout": {
        "barmode": "relative",
        "coloraxis": {
         "colorbar": {
          "title": {
           "text": "Importance"
          }
         },
         "colorscale": [
          [
           0,
           "#440154"
          ],
          [
           0.1111111111111111,
           "#482878"
          ],
          [
           0.2222222222222222,
           "#3e4989"
          ],
          [
           0.3333333333333333,
           "#31688e"
          ],
          [
           0.4444444444444444,
           "#26828e"
          ],
          [
           0.5555555555555556,
           "#1f9e89"
          ],
          [
           0.6666666666666666,
           "#35b779"
          ],
          [
           0.7777777777777778,
           "#6ece58"
          ],
          [
           0.8888888888888888,
           "#b5de2b"
          ],
          [
           1,
           "#fde725"
          ]
         ]
        },
        "legend": {
         "tracegroupgap": 0
        },
        "template": {
         "data": {
          "bar": [
           {
            "error_x": {
             "color": "#2a3f5f"
            },
            "error_y": {
             "color": "#2a3f5f"
            },
            "marker": {
             "line": {
              "color": "#E5ECF6",
              "width": 0.5
             },
             "pattern": {
              "fillmode": "overlay",
              "size": 10,
              "solidity": 0.2
             }
            },
            "type": "bar"
           }
          ],
          "barpolar": [
           {
            "marker": {
             "line": {
              "color": "#E5ECF6",
              "width": 0.5
             },
             "pattern": {
              "fillmode": "overlay",
              "size": 10,
              "solidity": 0.2
             }
            },
            "type": "barpolar"
           }
          ],
          "carpet": [
           {
            "aaxis": {
             "endlinecolor": "#2a3f5f",
             "gridcolor": "white",
             "linecolor": "white",
             "minorgridcolor": "white",
             "startlinecolor": "#2a3f5f"
            },
            "baxis": {
             "endlinecolor": "#2a3f5f",
             "gridcolor": "white",
             "linecolor": "white",
             "minorgridcolor": "white",
             "startlinecolor": "#2a3f5f"
            },
            "type": "carpet"
           }
          ],
          "choropleth": [
           {
            "colorbar": {
             "outlinewidth": 0,
             "ticks": ""
            },
            "type": "choropleth"
           }
          ],
          "contour": [
           {
            "colorbar": {
             "outlinewidth": 0,
             "ticks": ""
            },
            "colorscale": [
             [
              0,
              "#0d0887"
             ],
             [
              0.1111111111111111,
              "#46039f"
             ],
             [
              0.2222222222222222,
              "#7201a8"
             ],
             [
              0.3333333333333333,
              "#9c179e"
             ],
             [
              0.4444444444444444,
              "#bd3786"
             ],
             [
              0.5555555555555556,
              "#d8576b"
             ],
             [
              0.6666666666666666,
              "#ed7953"
             ],
             [
              0.7777777777777778,
              "#fb9f3a"
             ],
             [
              0.8888888888888888,
              "#fdca26"
             ],
             [
              1,
              "#f0f921"
             ]
            ],
            "type": "contour"
           }
          ],
          "contourcarpet": [
           {
            "colorbar": {
             "outlinewidth": 0,
             "ticks": ""
            },
            "type": "contourcarpet"
           }
          ],
          "heatmap": [
           {
            "colorbar": {
             "outlinewidth": 0,
             "ticks": ""
            },
            "colorscale": [
             [
              0,
              "#0d0887"
             ],
             [
              0.1111111111111111,
              "#46039f"
             ],
             [
              0.2222222222222222,
              "#7201a8"
             ],
             [
              0.3333333333333333,
              "#9c179e"
             ],
             [
              0.4444444444444444,
              "#bd3786"
             ],
             [
              0.5555555555555556,
              "#d8576b"
             ],
             [
              0.6666666666666666,
              "#ed7953"
             ],
             [
              0.7777777777777778,
              "#fb9f3a"
             ],
             [
              0.8888888888888888,
              "#fdca26"
             ],
             [
              1,
              "#f0f921"
             ]
            ],
            "type": "heatmap"
           }
          ],
          "histogram": [
           {
            "marker": {
             "pattern": {
              "fillmode": "overlay",
              "size": 10,
              "solidity": 0.2
             }
            },
            "type": "histogram"
           }
          ],
          "histogram2d": [
           {
            "colorbar": {
             "outlinewidth": 0,
             "ticks": ""
            },
            "colorscale": [
             [
              0,
              "#0d0887"
             ],
             [
              0.1111111111111111,
              "#46039f"
             ],
             [
              0.2222222222222222,
              "#7201a8"
             ],
             [
              0.3333333333333333,
              "#9c179e"
             ],
             [
              0.4444444444444444,
              "#bd3786"
             ],
             [
              0.5555555555555556,
              "#d8576b"
             ],
             [
              0.6666666666666666,
              "#ed7953"
             ],
             [
              0.7777777777777778,
              "#fb9f3a"
             ],
             [
              0.8888888888888888,
              "#fdca26"
             ],
             [
              1,
              "#f0f921"
             ]
            ],
            "type": "histogram2d"
           }
          ],
          "histogram2dcontour": [
           {
            "colorbar": {
             "outlinewidth": 0,
             "ticks": ""
            },
            "colorscale": [
             [
              0,
              "#0d0887"
             ],
             [
              0.1111111111111111,
              "#46039f"
             ],
             [
              0.2222222222222222,
              "#7201a8"
             ],
             [
              0.3333333333333333,
              "#9c179e"
             ],
             [
              0.4444444444444444,
              "#bd3786"
             ],
             [
              0.5555555555555556,
              "#d8576b"
             ],
             [
              0.6666666666666666,
              "#ed7953"
             ],
             [
              0.7777777777777778,
              "#fb9f3a"
             ],
             [
              0.8888888888888888,
              "#fdca26"
             ],
             [
              1,
              "#f0f921"
             ]
            ],
            "type": "histogram2dcontour"
           }
          ],
          "mesh3d": [
           {
            "colorbar": {
             "outlinewidth": 0,
             "ticks": ""
            },
            "type": "mesh3d"
           }
          ],
          "parcoords": [
           {
            "line": {
             "colorbar": {
              "outlinewidth": 0,
              "ticks": ""
             }
            },
            "type": "parcoords"
           }
          ],
          "pie": [
           {
            "automargin": true,
            "type": "pie"
           }
          ],
          "scatter": [
           {
            "fillpattern": {
             "fillmode": "overlay",
             "size": 10,
             "solidity": 0.2
            },
            "type": "scatter"
           }
          ],
          "scatter3d": [
           {
            "line": {
             "colorbar": {
              "outlinewidth": 0,
              "ticks": ""
             }
            },
            "marker": {
             "colorbar": {
              "outlinewidth": 0,
              "ticks": ""
             }
            },
            "type": "scatter3d"
           }
          ],
          "scattercarpet": [
           {
            "marker": {
             "colorbar": {
              "outlinewidth": 0,
              "ticks": ""
             }
            },
            "type": "scattercarpet"
           }
          ],
          "scattergeo": [
           {
            "marker": {
             "colorbar": {
              "outlinewidth": 0,
              "ticks": ""
             }
            },
            "type": "scattergeo"
           }
          ],
          "scattergl": [
           {
            "marker": {
             "colorbar": {
              "outlinewidth": 0,
              "ticks": ""
             }
            },
            "type": "scattergl"
           }
          ],
          "scattermap": [
           {
            "marker": {
             "colorbar": {
              "outlinewidth": 0,
              "ticks": ""
             }
            },
            "type": "scattermap"
           }
          ],
          "scattermapbox": [
           {
            "marker": {
             "colorbar": {
              "outlinewidth": 0,
              "ticks": ""
             }
            },
            "type": "scattermapbox"
           }
          ],
          "scatterpolar": [
           {
            "marker": {
             "colorbar": {
              "outlinewidth": 0,
              "ticks": ""
             }
            },
            "type": "scatterpolar"
           }
          ],
          "scatterpolargl": [
           {
            "marker": {
             "colorbar": {
              "outlinewidth": 0,
              "ticks": ""
             }
            },
            "type": "scatterpolargl"
           }
          ],
          "scatterternary": [
           {
            "marker": {
             "colorbar": {
              "outlinewidth": 0,
              "ticks": ""
             }
            },
            "type": "scatterternary"
           }
          ],
          "surface": [
           {
            "colorbar": {
             "outlinewidth": 0,
             "ticks": ""
            },
            "colorscale": [
             [
              0,
              "#0d0887"
             ],
             [
              0.1111111111111111,
              "#46039f"
             ],
             [
              0.2222222222222222,
              "#7201a8"
             ],
             [
              0.3333333333333333,
              "#9c179e"
             ],
             [
              0.4444444444444444,
              "#bd3786"
             ],
             [
              0.5555555555555556,
              "#d8576b"
             ],
             [
              0.6666666666666666,
              "#ed7953"
             ],
             [
              0.7777777777777778,
              "#fb9f3a"
             ],
             [
              0.8888888888888888,
              "#fdca26"
             ],
             [
              1,
              "#f0f921"
             ]
            ],
            "type": "surface"
           }
          ],
          "table": [
           {
            "cells": {
             "fill": {
              "color": "#EBF0F8"
             },
             "line": {
              "color": "white"
             }
            },
            "header": {
             "fill": {
              "color": "#C8D4E3"
             },
             "line": {
              "color": "white"
             }
            },
            "type": "table"
           }
          ]
         },
         "layout": {
          "annotationdefaults": {
           "arrowcolor": "#2a3f5f",
           "arrowhead": 0,
           "arrowwidth": 1
          },
          "autotypenumbers": "strict",
          "coloraxis": {
           "colorbar": {
            "outlinewidth": 0,
            "ticks": ""
           }
          },
          "colorscale": {
           "diverging": [
            [
             0,
             "#8e0152"
            ],
            [
             0.1,
             "#c51b7d"
            ],
            [
             0.2,
             "#de77ae"
            ],
            [
             0.3,
             "#f1b6da"
            ],
            [
             0.4,
             "#fde0ef"
            ],
            [
             0.5,
             "#f7f7f7"
            ],
            [
             0.6,
             "#e6f5d0"
            ],
            [
             0.7,
             "#b8e186"
            ],
            [
             0.8,
             "#7fbc41"
            ],
            [
             0.9,
             "#4d9221"
            ],
            [
             1,
             "#276419"
            ]
           ],
           "sequential": [
            [
             0,
             "#0d0887"
            ],
            [
             0.1111111111111111,
             "#46039f"
            ],
            [
             0.2222222222222222,
             "#7201a8"
            ],
            [
             0.3333333333333333,
             "#9c179e"
            ],
            [
             0.4444444444444444,
             "#bd3786"
            ],
            [
             0.5555555555555556,
             "#d8576b"
            ],
            [
             0.6666666666666666,
             "#ed7953"
            ],
            [
             0.7777777777777778,
             "#fb9f3a"
            ],
            [
             0.8888888888888888,
             "#fdca26"
            ],
            [
             1,
             "#f0f921"
            ]
           ],
           "sequentialminus": [
            [
             0,
             "#0d0887"
            ],
            [
             0.1111111111111111,
             "#46039f"
            ],
            [
             0.2222222222222222,
             "#7201a8"
            ],
            [
             0.3333333333333333,
             "#9c179e"
            ],
            [
             0.4444444444444444,
             "#bd3786"
            ],
            [
             0.5555555555555556,
             "#d8576b"
            ],
            [
             0.6666666666666666,
             "#ed7953"
            ],
            [
             0.7777777777777778,
             "#fb9f3a"
            ],
            [
             0.8888888888888888,
             "#fdca26"
            ],
            [
             1,
             "#f0f921"
            ]
           ]
          },
          "colorway": [
           "#636efa",
           "#EF553B",
           "#00cc96",
           "#ab63fa",
           "#FFA15A",
           "#19d3f3",
           "#FF6692",
           "#B6E880",
           "#FF97FF",
           "#FECB52"
          ],
          "font": {
           "color": "#2a3f5f"
          },
          "geo": {
           "bgcolor": "white",
           "lakecolor": "white",
           "landcolor": "#E5ECF6",
           "showlakes": true,
           "showland": true,
           "subunitcolor": "white"
          },
          "hoverlabel": {
           "align": "left"
          },
          "hovermode": "closest",
          "mapbox": {
           "style": "light"
          },
          "paper_bgcolor": "white",
          "plot_bgcolor": "#E5ECF6",
          "polar": {
           "angularaxis": {
            "gridcolor": "white",
            "linecolor": "white",
            "ticks": ""
           },
           "bgcolor": "#E5ECF6",
           "radialaxis": {
            "gridcolor": "white",
            "linecolor": "white",
            "ticks": ""
           }
          },
          "scene": {
           "xaxis": {
            "backgroundcolor": "#E5ECF6",
            "gridcolor": "white",
            "gridwidth": 2,
            "linecolor": "white",
            "showbackground": true,
            "ticks": "",
            "zerolinecolor": "white"
           },
           "yaxis": {
            "backgroundcolor": "#E5ECF6",
            "gridcolor": "white",
            "gridwidth": 2,
            "linecolor": "white",
            "showbackground": true,
            "ticks": "",
            "zerolinecolor": "white"
           },
           "zaxis": {
            "backgroundcolor": "#E5ECF6",
            "gridcolor": "white",
            "gridwidth": 2,
            "linecolor": "white",
            "showbackground": true,
            "ticks": "",
            "zerolinecolor": "white"
           }
          },
          "shapedefaults": {
           "line": {
            "color": "#2a3f5f"
           }
          },
          "ternary": {
           "aaxis": {
            "gridcolor": "white",
            "linecolor": "white",
            "ticks": ""
           },
           "baxis": {
            "gridcolor": "white",
            "linecolor": "white",
            "ticks": ""
           },
           "bgcolor": "#E5ECF6",
           "caxis": {
            "gridcolor": "white",
            "linecolor": "white",
            "ticks": ""
           }
          },
          "title": {
           "x": 0.05
          },
          "xaxis": {
           "automargin": true,
           "gridcolor": "white",
           "linecolor": "white",
           "ticks": "",
           "title": {
            "standoff": 15
           },
           "zerolinecolor": "white",
           "zerolinewidth": 2
          },
          "yaxis": {
           "automargin": true,
           "gridcolor": "white",
           "linecolor": "white",
           "ticks": "",
           "title": {
            "standoff": 15
           },
           "zerolinecolor": "white",
           "zerolinewidth": 2
          }
         }
        },
        "title": {
         "text": "Feature Importance",
         "x": 0.5
        },
        "xaxis": {
         "anchor": "y",
         "domain": [
          0,
          1
         ],
         "title": {
          "text": "Importance"
         }
        },
        "yaxis": {
         "anchor": "x",
         "domain": [
          0,
          1
         ],
         "title": {
          "text": "Feature"
         }
        }
       }
      }
     },
     "metadata": {},
     "output_type": "display_data"
    }
   ],
   "source": [
    "fig = px.bar(\n",
    "    feature_importance_df,\n",
    "    x=\"Importance\",\n",
    "    y=\"Feature\",\n",
    "    title=\"Feature Importance\",\n",
    "    orientation=\"h\",\n",
    "    text_auto=True,\n",
    "    color=\"Importance\",\n",
    "    color_continuous_scale=px.colors.sequential.Viridis,\n",
    ")\n",
    "fig.update_layout(\n",
    "    xaxis_title=\"Importance\",\n",
    "    yaxis_title=\"Feature\",\n",
    "    title_x=0.5,\n",
    ")\n",
    "fig.show()"
   ]
  },
  {
   "cell_type": "code",
   "execution_count": 18,
   "metadata": {},
   "outputs": [
    {
     "data": {
      "application/vnd.plotly.v1+json": {
       "config": {
        "plotlyServerURL": "https://plot.ly"
       },
       "data": [
        {
         "marker": {
          "color": "blue",
          "size": 5
         },
         "mode": "markers",
         "name": "Predicted vs Actual",
         "type": "scatter",
         "x": {
          "bdata": "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",
          "dtype": "f8"
         },
         "y": {
          "bdata": "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",
          "dtype": "f8"
         }
        },
        {
         "line": {
          "color": "red",
          "dash": "dash"
         },
         "mode": "lines",
         "name": "Perfect Prediction",
         "type": "scatter",
         "x": {
          "bdata": "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",
          "dtype": "f8"
         },
         "y": {
          "bdata": "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",
          "dtype": "f8"
         }
        }
       ],
       "layout": {
        "showlegend": true,
        "template": {
         "data": {
          "bar": [
           {
            "error_x": {
             "color": "#2a3f5f"
            },
            "error_y": {
             "color": "#2a3f5f"
            },
            "marker": {
             "line": {
              "color": "#E5ECF6",
              "width": 0.5
             },
             "pattern": {
              "fillmode": "overlay",
              "size": 10,
              "solidity": 0.2
             }
            },
            "type": "bar"
           }
          ],
          "barpolar": [
           {
            "marker": {
             "line": {
              "color": "#E5ECF6",
              "width": 0.5
             },
             "pattern": {
              "fillmode": "overlay",
              "size": 10,
              "solidity": 0.2
             }
            },
            "type": "barpolar"
           }
          ],
          "carpet": [
           {
            "aaxis": {
             "endlinecolor": "#2a3f5f",
             "gridcolor": "white",
             "linecolor": "white",
             "minorgridcolor": "white",
             "startlinecolor": "#2a3f5f"
            },
            "baxis": {
             "endlinecolor": "#2a3f5f",
             "gridcolor": "white",
             "linecolor": "white",
             "minorgridcolor": "white",
             "startlinecolor": "#2a3f5f"
            },
            "type": "carpet"
           }
          ],
          "choropleth": [
           {
            "colorbar": {
             "outlinewidth": 0,
             "ticks": ""
            },
            "type": "choropleth"
           }
          ],
          "contour": [
           {
            "colorbar": {
             "outlinewidth": 0,
             "ticks": ""
            },
            "colorscale": [
             [
              0,
              "#0d0887"
             ],
             [
              0.1111111111111111,
              "#46039f"
             ],
             [
              0.2222222222222222,
              "#7201a8"
             ],
             [
              0.3333333333333333,
              "#9c179e"
             ],
             [
              0.4444444444444444,
              "#bd3786"
             ],
             [
              0.5555555555555556,
              "#d8576b"
             ],
             [
              0.6666666666666666,
              "#ed7953"
             ],
             [
              0.7777777777777778,
              "#fb9f3a"
             ],
             [
              0.8888888888888888,
              "#fdca26"
             ],
             [
              1,
              "#f0f921"
             ]
            ],
            "type": "contour"
           }
          ],
          "contourcarpet": [
           {
            "colorbar": {
             "outlinewidth": 0,
             "ticks": ""
            },
            "type": "contourcarpet"
           }
          ],
          "heatmap": [
           {
            "colorbar": {
             "outlinewidth": 0,
             "ticks": ""
            },
            "colorscale": [
             [
              0,
              "#0d0887"
             ],
             [
              0.1111111111111111,
              "#46039f"
             ],
             [
              0.2222222222222222,
              "#7201a8"
             ],
             [
              0.3333333333333333,
              "#9c179e"
             ],
             [
              0.4444444444444444,
              "#bd3786"
             ],
             [
              0.5555555555555556,
              "#d8576b"
             ],
             [
              0.6666666666666666,
              "#ed7953"
             ],
             [
              0.7777777777777778,
              "#fb9f3a"
             ],
             [
              0.8888888888888888,
              "#fdca26"
             ],
             [
              1,
              "#f0f921"
             ]
            ],
            "type": "heatmap"
           }
          ],
          "histogram": [
           {
            "marker": {
             "pattern": {
              "fillmode": "overlay",
              "size": 10,
              "solidity": 0.2
             }
            },
            "type": "histogram"
           }
          ],
          "histogram2d": [
           {
            "colorbar": {
             "outlinewidth": 0,
             "ticks": ""
            },
            "colorscale": [
             [
              0,
              "#0d0887"
             ],
             [
              0.1111111111111111,
              "#46039f"
             ],
             [
              0.2222222222222222,
              "#7201a8"
             ],
             [
              0.3333333333333333,
              "#9c179e"
             ],
             [
              0.4444444444444444,
              "#bd3786"
             ],
             [
              0.5555555555555556,
              "#d8576b"
             ],
             [
              0.6666666666666666,
              "#ed7953"
             ],
             [
              0.7777777777777778,
              "#fb9f3a"
             ],
             [
              0.8888888888888888,
              "#fdca26"
             ],
             [
              1,
              "#f0f921"
             ]
            ],
            "type": "histogram2d"
           }
          ],
          "histogram2dcontour": [
           {
            "colorbar": {
             "outlinewidth": 0,
             "ticks": ""
            },
            "colorscale": [
             [
              0,
              "#0d0887"
             ],
             [
              0.1111111111111111,
              "#46039f"
             ],
             [
              0.2222222222222222,
              "#7201a8"
             ],
             [
              0.3333333333333333,
              "#9c179e"
             ],
             [
              0.4444444444444444,
              "#bd3786"
             ],
             [
              0.5555555555555556,
              "#d8576b"
             ],
             [
              0.6666666666666666,
              "#ed7953"
             ],
             [
              0.7777777777777778,
              "#fb9f3a"
             ],
             [
              0.8888888888888888,
              "#fdca26"
             ],
             [
              1,
              "#f0f921"
             ]
            ],
            "type": "histogram2dcontour"
           }
          ],
          "mesh3d": [
           {
            "colorbar": {
             "outlinewidth": 0,
             "ticks": ""
            },
            "type": "mesh3d"
           }
          ],
          "parcoords": [
           {
            "line": {
             "colorbar": {
              "outlinewidth": 0,
              "ticks": ""
             }
            },
            "type": "parcoords"
           }
          ],
          "pie": [
           {
            "automargin": true,
            "type": "pie"
           }
          ],
          "scatter": [
           {
            "fillpattern": {
             "fillmode": "overlay",
             "size": 10,
             "solidity": 0.2
            },
            "type": "scatter"
           }
          ],
          "scatter3d": [
           {
            "line": {
             "colorbar": {
              "outlinewidth": 0,
              "ticks": ""
             }
            },
            "marker": {
             "colorbar": {
              "outlinewidth": 0,
              "ticks": ""
             }
            },
            "type": "scatter3d"
           }
          ],
          "scattercarpet": [
           {
            "marker": {
             "colorbar": {
              "outlinewidth": 0,
              "ticks": ""
             }
            },
            "type": "scattercarpet"
           }
          ],
          "scattergeo": [
           {
            "marker": {
             "colorbar": {
              "outlinewidth": 0,
              "ticks": ""
             }
            },
            "type": "scattergeo"
           }
          ],
          "scattergl": [
           {
            "marker": {
             "colorbar": {
              "outlinewidth": 0,
              "ticks": ""
             }
            },
            "type": "scattergl"
           }
          ],
          "scattermap": [
           {
            "marker": {
             "colorbar": {
              "outlinewidth": 0,
              "ticks": ""
             }
            },
            "type": "scattermap"
           }
          ],
          "scattermapbox": [
           {
            "marker": {
             "colorbar": {
              "outlinewidth": 0,
              "ticks": ""
             }
            },
            "type": "scattermapbox"
           }
          ],
          "scatterpolar": [
           {
            "marker": {
             "colorbar": {
              "outlinewidth": 0,
              "ticks": ""
             }
            },
            "type": "scatterpolar"
           }
          ],
          "scatterpolargl": [
           {
            "marker": {
             "colorbar": {
              "outlinewidth": 0,
              "ticks": ""
             }
            },
            "type": "scatterpolargl"
           }
          ],
          "scatterternary": [
           {
            "marker": {
             "colorbar": {
              "outlinewidth": 0,
              "ticks": ""
             }
            },
            "type": "scatterternary"
           }
          ],
          "surface": [
           {
            "colorbar": {
             "outlinewidth": 0,
             "ticks": ""
            },
            "colorscale": [
             [
              0,
              "#0d0887"
             ],
             [
              0.1111111111111111,
              "#46039f"
             ],
             [
              0.2222222222222222,
              "#7201a8"
             ],
             [
              0.3333333333333333,
              "#9c179e"
             ],
             [
              0.4444444444444444,
              "#bd3786"
             ],
             [
              0.5555555555555556,
              "#d8576b"
             ],
             [
              0.6666666666666666,
              "#ed7953"
             ],
             [
              0.7777777777777778,
              "#fb9f3a"
             ],
             [
              0.8888888888888888,
              "#fdca26"
             ],
             [
              1,
              "#f0f921"
             ]
            ],
            "type": "surface"
           }
          ],
          "table": [
           {
            "cells": {
             "fill": {
              "color": "#EBF0F8"
             },
             "line": {
              "color": "white"
             }
            },
            "header": {
             "fill": {
              "color": "#C8D4E3"
             },
             "line": {
              "color": "white"
             }
            },
            "type": "table"
           }
          ]
         },
         "layout": {
          "annotationdefaults": {
           "arrowcolor": "#2a3f5f",
           "arrowhead": 0,
           "arrowwidth": 1
          },
          "autotypenumbers": "strict",
          "coloraxis": {
           "colorbar": {
            "outlinewidth": 0,
            "ticks": ""
           }
          },
          "colorscale": {
           "diverging": [
            [
             0,
             "#8e0152"
            ],
            [
             0.1,
             "#c51b7d"
            ],
            [
             0.2,
             "#de77ae"
            ],
            [
             0.3,
             "#f1b6da"
            ],
            [
             0.4,
             "#fde0ef"
            ],
            [
             0.5,
             "#f7f7f7"
            ],
            [
             0.6,
             "#e6f5d0"
            ],
            [
             0.7,
             "#b8e186"
            ],
            [
             0.8,
             "#7fbc41"
            ],
            [
             0.9,
             "#4d9221"
            ],
            [
             1,
             "#276419"
            ]
           ],
           "sequential": [
            [
             0,
             "#0d0887"
            ],
            [
             0.1111111111111111,
             "#46039f"
            ],
            [
             0.2222222222222222,
             "#7201a8"
            ],
            [
             0.3333333333333333,
             "#9c179e"
            ],
            [
             0.4444444444444444,
             "#bd3786"
            ],
            [
             0.5555555555555556,
             "#d8576b"
            ],
            [
             0.6666666666666666,
             "#ed7953"
            ],
            [
             0.7777777777777778,
             "#fb9f3a"
            ],
            [
             0.8888888888888888,
             "#fdca26"
            ],
            [
             1,
             "#f0f921"
            ]
           ],
           "sequentialminus": [
            [
             0,
             "#0d0887"
            ],
            [
             0.1111111111111111,
             "#46039f"
            ],
            [
             0.2222222222222222,
             "#7201a8"
            ],
            [
             0.3333333333333333,
             "#9c179e"
            ],
            [
             0.4444444444444444,
             "#bd3786"
            ],
            [
             0.5555555555555556,
             "#d8576b"
            ],
            [
             0.6666666666666666,
             "#ed7953"
            ],
            [
             0.7777777777777778,
             "#fb9f3a"
            ],
            [
             0.8888888888888888,
             "#fdca26"
            ],
            [
             1,
             "#f0f921"
            ]
           ]
          },
          "colorway": [
           "#636efa",
           "#EF553B",
           "#00cc96",
           "#ab63fa",
           "#FFA15A",
           "#19d3f3",
           "#FF6692",
           "#B6E880",
           "#FF97FF",
           "#FECB52"
          ],
          "font": {
           "color": "#2a3f5f"
          },
          "geo": {
           "bgcolor": "white",
           "lakecolor": "white",
           "landcolor": "#E5ECF6",
           "showlakes": true,
           "showland": true,
           "subunitcolor": "white"
          },
          "hoverlabel": {
           "align": "left"
          },
          "hovermode": "closest",
          "mapbox": {
           "style": "light"
          },
          "paper_bgcolor": "white",
          "plot_bgcolor": "#E5ECF6",
          "polar": {
           "angularaxis": {
            "gridcolor": "white",
            "linecolor": "white",
            "ticks": ""
           },
           "bgcolor": "#E5ECF6",
           "radialaxis": {
            "gridcolor": "white",
            "linecolor": "white",
            "ticks": ""
           }
          },
          "scene": {
           "xaxis": {
            "backgroundcolor": "#E5ECF6",
            "gridcolor": "white",
            "gridwidth": 2,
            "linecolor": "white",
            "showbackground": true,
            "ticks": "",
            "zerolinecolor": "white"
           },
           "yaxis": {
            "backgroundcolor": "#E5ECF6",
            "gridcolor": "white",
            "gridwidth": 2,
            "linecolor": "white",
            "showbackground": true,
            "ticks": "",
            "zerolinecolor": "white"
           },
           "zaxis": {
            "backgroundcolor": "#E5ECF6",
            "gridcolor": "white",
            "gridwidth": 2,
            "linecolor": "white",
            "showbackground": true,
            "ticks": "",
            "zerolinecolor": "white"
           }
          },
          "shapedefaults": {
           "line": {
            "color": "#2a3f5f"
           }
          },
          "ternary": {
           "aaxis": {
            "gridcolor": "white",
            "linecolor": "white",
            "ticks": ""
           },
           "baxis": {
            "gridcolor": "white",
            "linecolor": "white",
            "ticks": ""
           },
           "bgcolor": "#E5ECF6",
           "caxis": {
            "gridcolor": "white",
            "linecolor": "white",
            "ticks": ""
           }
          },
          "title": {
           "x": 0.05
          },
          "xaxis": {
           "automargin": true,
           "gridcolor": "white",
           "linecolor": "white",
           "ticks": "",
           "title": {
            "standoff": 15
           },
           "zerolinecolor": "white",
           "zerolinewidth": 2
          },
          "yaxis": {
           "automargin": true,
           "gridcolor": "white",
           "linecolor": "white",
           "ticks": "",
           "title": {
            "standoff": 15
           },
           "zerolinecolor": "white",
           "zerolinewidth": 2
          }
         }
        },
        "title": {
         "text": "Actual vs Predicted Lap Times"
        },
        "xaxis": {
         "title": {
          "text": "Actual Lap Time (seconds)"
         }
        },
        "yaxis": {
         "title": {
          "text": "Predicted Lap Time (seconds)"
         }
        }
       }
      }
     },
     "metadata": {},
     "output_type": "display_data"
    }
   ],
   "source": [
    "# Plotting the actual vs predicted lap times\n",
    "fig = go.Figure()\n",
    "fig.add_trace(\n",
    "    go.Scatter(\n",
    "        x=y_test,\n",
    "        y=y_pred,\n",
    "        mode=\"markers\",\n",
    "        name=\"Predicted vs Actual\",\n",
    "        marker=dict(color=\"blue\", size=5),\n",
    "    )\n",
    ")\n",
    "fig.add_trace(\n",
    "    go.Scatter(\n",
    "        x=y_test,\n",
    "        y=y_test,\n",
    "        mode=\"lines\",\n",
    "        name=\"Perfect Prediction\",\n",
    "        line=dict(color=\"red\", dash=\"dash\"),\n",
    "    )\n",
    ")\n",
    "fig.update_layout(\n",
    "    title=\"Actual vs Predicted Lap Times\",\n",
    "    xaxis_title=\"Actual Lap Time (seconds)\",\n",
    "    yaxis_title=\"Predicted Lap Time (seconds)\",\n",
    "    showlegend=True,\n",
    ")\n",
    "fig.show()"
   ]
  },
  {
   "cell_type": "code",
   "execution_count": 19,
   "metadata": {},
   "outputs": [],
   "source": [
    "# make predictions for 2025\n",
    "X_2025 = merged_dat[merged_dat[\"Year\"] == 2025][numeric_columns + categorical_columns].copy()\n",
    "# Ensure the columns are in the same order as the training data\n",
    "X_2025 = X_2025[numeric_columns + categorical_columns]\n",
    "# Check if the columns match\n",
    "if set(X_2025.columns) != set(X_train.columns):\n",
    "    raise ValueError(\"Feature columns do not match training data columns.\")\n",
    "# Check for missing columns\n",
    "missing_columns = set(X_train.columns) - set(X_2025.columns)\n",
    "if missing_columns:\n",
    "    raise ValueError(f\"Missing columns in 2025 data: {missing_columns}\")\n",
    "# Check for extra columns\n",
    "extra_columns = set(X_2025.columns) - set(X_train.columns)\n",
    "if extra_columns:\n",
    "    raise ValueError(f\"Extra columns in 2025 data: {extra_columns}\")\n",
    "        \n",
    "# Drop rows with NaN values\n",
    "X_2025 = X_2025.dropna()\n",
    "\n",
    "# Now make predictions\n",
    "predictions = model.predict(X_2025)"
   ]
  },
  {
   "cell_type": "code",
   "execution_count": 20,
   "metadata": {},
   "outputs": [
    {
     "data": {
      "application/vnd.plotly.v1+json": {
       "config": {
        "plotlyServerURL": "https://plot.ly"
       },
       "data": [
        {
         "hovertemplate": "Driver=%{x}<br>Predicted Lap Time (seconds)=%{y}<extra></extra>",
         "legendgroup": "",
         "marker": {
          "color": "#636efa",
          "pattern": {
           "shape": ""
          }
         },
         "name": "",
         "orientation": "v",
         "showlegend": false,
         "textposition": "auto",
         "type": "bar",
         "x": [
          "VER",
          "GAS",
          "VER",
          "GAS",
          null,
          null,
          null,
          "VER",
          null,
          null,
          null,
          "NOR",
          null,
          null,
          null,
          "NOR",
          "VER",
          null,
          null,
          "VER",
          "NOR",
          null,
          null,
          "NOR",
          "GAS",
          null,
          null,
          "VER",
          null,
          null,
          "SAR",
          "GAS",
          "GAS",
          "SAR",
          null,
          "SAR",
          null,
          null,
          null,
          "SAR",
          null,
          null,
          "NOR",
          null,
          "RIC",
          null,
          null,
          "SAR",
          "RIC",
          "RIC",
          null,
          null,
          null,
          null,
          null,
          null,
          null,
          "SAR",
          "SAR",
          null,
          null,
          null,
          null,
          "NOR",
          "RIC",
          null,
          null,
          "RIC",
          null,
          "GAS",
          null,
          null,
          "GAS",
          null,
          null,
          "GAS",
          "SAR",
          "NOR",
          null,
          null,
          "NOR",
          "SAR",
          "VER",
          null,
          null,
          "VER",
          "NOR",
          null,
          null,
          "GAS",
          null,
          "VER",
          null,
          "SAR",
          null,
          "GAS",
          null,
          "VER",
          "NOR",
          "NOR",
          null,
          null,
          "VER",
          null,
          "GAS",
          "SAR",
          null,
          null,
          null,
          "RIC",
          null,
          "GAS",
          null,
          "NOR",
          null,
          "VER",
          "NOR",
          null,
          "SAR",
          null,
          null,
          null,
          null,
          null,
          null,
          "SAR",
          "SAR",
          null,
          null,
          null,
          null,
          "VER",
          "SAR",
          "RIC",
          null,
          "VER",
          null,
          null,
          "RIC"
         ],
         "xaxis": "x",
         "y": {
          "bdata": "wXLJ9xTWUkCc6IfvJ9dSQD7hHqXC4lJAyBw3xAznUkBfyYZXE+dSQPs/t4xq51JA/IMkmBXpUkCwlgdTtOtSQNM9x6Uj7FJA4PdZJZntUkCC6ErTuvBSQCQiuD4681JAJCK4PjrzUkBSckB0pfVSQJngTvxQ+FJAcf0fdMP4UkD0q6Da2PpSQDhquLra/FJAqD0jif39UkDHZrEmXf5SQG9/Scfl/1JAyXqo4WMBU0BNhfyQ8QFTQNqcIsOjAlNArljFCLgCU0AwsEQ14gJTQJvqPFA5A1NA6UcdpqcDU0CPM64kiARTQAfV3NAqBlNA9eNvAosHU0B5m2fD7gdTQFIKS0cLCFNA5Ue2qUALU0AaWZnUmAtTQAMVf0saDFNAUA0pwcgNU0CvkJKwbg9TQK+QkrBuD1NAr5CSsG4PU0CvkJKwbg9TQAMh6J95EFNA26Au4+wQU0Bo+dcPSBFTQGj51w9IEVNAuSH8uXoSU0Cp88rqqBNTQM1pxKanFFNA+Xlg2SUWU0Bcdjy1PBZTQMyCF/xcFlNAvFTmLIsXU0CIhtjnuhdTQEthXjsgGVNA65szagcmU0D0XfS7jyhTQHRtmMn7KlNAROSJqgwrU0Cn4GWGIytTQNPwAbmhLFNAwtsjP4UvU0DC2yM/hS9TQCrEsCUUk1RAvLDbj/DCWEBPJwxnGMlYQCip5LBl5lhAyJzR8wjxWEDOce9+Ej9ZQIBfoxAYRFlA5pNX6t/TWUDRYBGE6ABaQMpQxpiUF1pAeMfmn4A2WkDk2V2pXEpaQN3OVDBvXlpAnXopa95gWkCiSiK6WWdaQAdM1jO4eVpAUa0grb6GWkBxQjwN6vlaQC61DYDlCVtAZhWfQqQRW0BCRRq27S1bQDIBJEN8MVtAkSUJabB1W0ARj7pQSI1bQG0/9H3sjVtAeqjCHgSXW0CURTWBsdZbQCv1cCp/3FtA7sWlkCP0W0CBST1xlAtcQPpJWMo2HFxAmCpizIggXEDh2soltDFcQMAKQE2zPlxAS7J79cVMXEC/UwZTF3xcQByLMgZ9iFxAHIsyBn2IXEC/Fsff0tZcQBwr89uI4FxA+f1iIGv4XEAXbL9MrApdQLjSoDI+fF1ALra/iJKzXUBoc2cfD/1dQE/QSY+v/11A/QOAoFUKXkCCwzucSCxeQILDO5xILF5AoZx3tikwXkCtGSGc/UNeQCu6V4s3jl5AtbC2r/yOXkBSvrMY/J1eQARDwW8Eql5ANUIxwsfVXkBV844xhd1eQJvSzCx+I19Ak5gvU9oxX0CnCO+XVnpfQDXylruNgF9A1R9eHo8BYEDC0ctZKAJgQBayP52OCWBANA3NsFkjYECf1WgS0DFgQKTaeuaLYmBAZ4WmkJCGYECuEPy5vPNgQPyUGhsPI2FAEZHeHOEmYUBeeTI1nTlhQCrgP9yOQmFAIAcWIppiYUBZgkIFSH9hQBusnQCRhGFApYi1z7amYUA=",
          "dtype": "f8"
         },
         "yaxis": "y"
        }
       ],
       "layout": {
        "barmode": "relative",
        "legend": {
         "tracegroupgap": 0
        },
        "template": {
         "data": {
          "bar": [
           {
            "error_x": {
             "color": "#2a3f5f"
            },
            "error_y": {
             "color": "#2a3f5f"
            },
            "marker": {
             "line": {
              "color": "#E5ECF6",
              "width": 0.5
             },
             "pattern": {
              "fillmode": "overlay",
              "size": 10,
              "solidity": 0.2
             }
            },
            "type": "bar"
           }
          ],
          "barpolar": [
           {
            "marker": {
             "line": {
              "color": "#E5ECF6",
              "width": 0.5
             },
             "pattern": {
              "fillmode": "overlay",
              "size": 10,
              "solidity": 0.2
             }
            },
            "type": "barpolar"
           }
          ],
          "carpet": [
           {
            "aaxis": {
             "endlinecolor": "#2a3f5f",
             "gridcolor": "white",
             "linecolor": "white",
             "minorgridcolor": "white",
             "startlinecolor": "#2a3f5f"
            },
            "baxis": {
             "endlinecolor": "#2a3f5f",
             "gridcolor": "white",
             "linecolor": "white",
             "minorgridcolor": "white",
             "startlinecolor": "#2a3f5f"
            },
            "type": "carpet"
           }
          ],
          "choropleth": [
           {
            "colorbar": {
             "outlinewidth": 0,
             "ticks": ""
            },
            "type": "choropleth"
           }
          ],
          "contour": [
           {
            "colorbar": {
             "outlinewidth": 0,
             "ticks": ""
            },
            "colorscale": [
             [
              0,
              "#0d0887"
             ],
             [
              0.1111111111111111,
              "#46039f"
             ],
             [
              0.2222222222222222,
              "#7201a8"
             ],
             [
              0.3333333333333333,
              "#9c179e"
             ],
             [
              0.4444444444444444,
              "#bd3786"
             ],
             [
              0.5555555555555556,
              "#d8576b"
             ],
             [
              0.6666666666666666,
              "#ed7953"
             ],
             [
              0.7777777777777778,
              "#fb9f3a"
             ],
             [
              0.8888888888888888,
              "#fdca26"
             ],
             [
              1,
              "#f0f921"
             ]
            ],
            "type": "contour"
           }
          ],
          "contourcarpet": [
           {
            "colorbar": {
             "outlinewidth": 0,
             "ticks": ""
            },
            "type": "contourcarpet"
           }
          ],
          "heatmap": [
           {
            "colorbar": {
             "outlinewidth": 0,
             "ticks": ""
            },
            "colorscale": [
             [
              0,
              "#0d0887"
             ],
             [
              0.1111111111111111,
              "#46039f"
             ],
             [
              0.2222222222222222,
              "#7201a8"
             ],
             [
              0.3333333333333333,
              "#9c179e"
             ],
             [
              0.4444444444444444,
              "#bd3786"
             ],
             [
              0.5555555555555556,
              "#d8576b"
             ],
             [
              0.6666666666666666,
              "#ed7953"
             ],
             [
              0.7777777777777778,
              "#fb9f3a"
             ],
             [
              0.8888888888888888,
              "#fdca26"
             ],
             [
              1,
              "#f0f921"
             ]
            ],
            "type": "heatmap"
           }
          ],
          "histogram": [
           {
            "marker": {
             "pattern": {
              "fillmode": "overlay",
              "size": 10,
              "solidity": 0.2
             }
            },
            "type": "histogram"
           }
          ],
          "histogram2d": [
           {
            "colorbar": {
             "outlinewidth": 0,
             "ticks": ""
            },
            "colorscale": [
             [
              0,
              "#0d0887"
             ],
             [
              0.1111111111111111,
              "#46039f"
             ],
             [
              0.2222222222222222,
              "#7201a8"
             ],
             [
              0.3333333333333333,
              "#9c179e"
             ],
             [
              0.4444444444444444,
              "#bd3786"
             ],
             [
              0.5555555555555556,
              "#d8576b"
             ],
             [
              0.6666666666666666,
              "#ed7953"
             ],
             [
              0.7777777777777778,
              "#fb9f3a"
             ],
             [
              0.8888888888888888,
              "#fdca26"
             ],
             [
              1,
              "#f0f921"
             ]
            ],
            "type": "histogram2d"
           }
          ],
          "histogram2dcontour": [
           {
            "colorbar": {
             "outlinewidth": 0,
             "ticks": ""
            },
            "colorscale": [
             [
              0,
              "#0d0887"
             ],
             [
              0.1111111111111111,
              "#46039f"
             ],
             [
              0.2222222222222222,
              "#7201a8"
             ],
             [
              0.3333333333333333,
              "#9c179e"
             ],
             [
              0.4444444444444444,
              "#bd3786"
             ],
             [
              0.5555555555555556,
              "#d8576b"
             ],
             [
              0.6666666666666666,
              "#ed7953"
             ],
             [
              0.7777777777777778,
              "#fb9f3a"
             ],
             [
              0.8888888888888888,
              "#fdca26"
             ],
             [
              1,
              "#f0f921"
             ]
            ],
            "type": "histogram2dcontour"
           }
          ],
          "mesh3d": [
           {
            "colorbar": {
             "outlinewidth": 0,
             "ticks": ""
            },
            "type": "mesh3d"
           }
          ],
          "parcoords": [
           {
            "line": {
             "colorbar": {
              "outlinewidth": 0,
              "ticks": ""
             }
            },
            "type": "parcoords"
           }
          ],
          "pie": [
           {
            "automargin": true,
            "type": "pie"
           }
          ],
          "scatter": [
           {
            "fillpattern": {
             "fillmode": "overlay",
             "size": 10,
             "solidity": 0.2
            },
            "type": "scatter"
           }
          ],
          "scatter3d": [
           {
            "line": {
             "colorbar": {
              "outlinewidth": 0,
              "ticks": ""
             }
            },
            "marker": {
             "colorbar": {
              "outlinewidth": 0,
              "ticks": ""
             }
            },
            "type": "scatter3d"
           }
          ],
          "scattercarpet": [
           {
            "marker": {
             "colorbar": {
              "outlinewidth": 0,
              "ticks": ""
             }
            },
            "type": "scattercarpet"
           }
          ],
          "scattergeo": [
           {
            "marker": {
             "colorbar": {
              "outlinewidth": 0,
              "ticks": ""
             }
            },
            "type": "scattergeo"
           }
          ],
          "scattergl": [
           {
            "marker": {
             "colorbar": {
              "outlinewidth": 0,
              "ticks": ""
             }
            },
            "type": "scattergl"
           }
          ],
          "scattermap": [
           {
            "marker": {
             "colorbar": {
              "outlinewidth": 0,
              "ticks": ""
             }
            },
            "type": "scattermap"
           }
          ],
          "scattermapbox": [
           {
            "marker": {
             "colorbar": {
              "outlinewidth": 0,
              "ticks": ""
             }
            },
            "type": "scattermapbox"
           }
          ],
          "scatterpolar": [
           {
            "marker": {
             "colorbar": {
              "outlinewidth": 0,
              "ticks": ""
             }
            },
            "type": "scatterpolar"
           }
          ],
          "scatterpolargl": [
           {
            "marker": {
             "colorbar": {
              "outlinewidth": 0,
              "ticks": ""
             }
            },
            "type": "scatterpolargl"
           }
          ],
          "scatterternary": [
           {
            "marker": {
             "colorbar": {
              "outlinewidth": 0,
              "ticks": ""
             }
            },
            "type": "scatterternary"
           }
          ],
          "surface": [
           {
            "colorbar": {
             "outlinewidth": 0,
             "ticks": ""
            },
            "colorscale": [
             [
              0,
              "#0d0887"
             ],
             [
              0.1111111111111111,
              "#46039f"
             ],
             [
              0.2222222222222222,
              "#7201a8"
             ],
             [
              0.3333333333333333,
              "#9c179e"
             ],
             [
              0.4444444444444444,
              "#bd3786"
             ],
             [
              0.5555555555555556,
              "#d8576b"
             ],
             [
              0.6666666666666666,
              "#ed7953"
             ],
             [
              0.7777777777777778,
              "#fb9f3a"
             ],
             [
              0.8888888888888888,
              "#fdca26"
             ],
             [
              1,
              "#f0f921"
             ]
            ],
            "type": "surface"
           }
          ],
          "table": [
           {
            "cells": {
             "fill": {
              "color": "#EBF0F8"
             },
             "line": {
              "color": "white"
             }
            },
            "header": {
             "fill": {
              "color": "#C8D4E3"
             },
             "line": {
              "color": "white"
             }
            },
            "type": "table"
           }
          ]
         },
         "layout": {
          "annotationdefaults": {
           "arrowcolor": "#2a3f5f",
           "arrowhead": 0,
           "arrowwidth": 1
          },
          "autotypenumbers": "strict",
          "coloraxis": {
           "colorbar": {
            "outlinewidth": 0,
            "ticks": ""
           }
          },
          "colorscale": {
           "diverging": [
            [
             0,
             "#8e0152"
            ],
            [
             0.1,
             "#c51b7d"
            ],
            [
             0.2,
             "#de77ae"
            ],
            [
             0.3,
             "#f1b6da"
            ],
            [
             0.4,
             "#fde0ef"
            ],
            [
             0.5,
             "#f7f7f7"
            ],
            [
             0.6,
             "#e6f5d0"
            ],
            [
             0.7,
             "#b8e186"
            ],
            [
             0.8,
             "#7fbc41"
            ],
            [
             0.9,
             "#4d9221"
            ],
            [
             1,
             "#276419"
            ]
           ],
           "sequential": [
            [
             0,
             "#0d0887"
            ],
            [
             0.1111111111111111,
             "#46039f"
            ],
            [
             0.2222222222222222,
             "#7201a8"
            ],
            [
             0.3333333333333333,
             "#9c179e"
            ],
            [
             0.4444444444444444,
             "#bd3786"
            ],
            [
             0.5555555555555556,
             "#d8576b"
            ],
            [
             0.6666666666666666,
             "#ed7953"
            ],
            [
             0.7777777777777778,
             "#fb9f3a"
            ],
            [
             0.8888888888888888,
             "#fdca26"
            ],
            [
             1,
             "#f0f921"
            ]
           ],
           "sequentialminus": [
            [
             0,
             "#0d0887"
            ],
            [
             0.1111111111111111,
             "#46039f"
            ],
            [
             0.2222222222222222,
             "#7201a8"
            ],
            [
             0.3333333333333333,
             "#9c179e"
            ],
            [
             0.4444444444444444,
             "#bd3786"
            ],
            [
             0.5555555555555556,
             "#d8576b"
            ],
            [
             0.6666666666666666,
             "#ed7953"
            ],
            [
             0.7777777777777778,
             "#fb9f3a"
            ],
            [
             0.8888888888888888,
             "#fdca26"
            ],
            [
             1,
             "#f0f921"
            ]
           ]
          },
          "colorway": [
           "#636efa",
           "#EF553B",
           "#00cc96",
           "#ab63fa",
           "#FFA15A",
           "#19d3f3",
           "#FF6692",
           "#B6E880",
           "#FF97FF",
           "#FECB52"
          ],
          "font": {
           "color": "#2a3f5f"
          },
          "geo": {
           "bgcolor": "white",
           "lakecolor": "white",
           "landcolor": "#E5ECF6",
           "showlakes": true,
           "showland": true,
           "subunitcolor": "white"
          },
          "hoverlabel": {
           "align": "left"
          },
          "hovermode": "closest",
          "mapbox": {
           "style": "light"
          },
          "paper_bgcolor": "white",
          "plot_bgcolor": "#E5ECF6",
          "polar": {
           "angularaxis": {
            "gridcolor": "white",
            "linecolor": "white",
            "ticks": ""
           },
           "bgcolor": "#E5ECF6",
           "radialaxis": {
            "gridcolor": "white",
            "linecolor": "white",
            "ticks": ""
           }
          },
          "scene": {
           "xaxis": {
            "backgroundcolor": "#E5ECF6",
            "gridcolor": "white",
            "gridwidth": 2,
            "linecolor": "white",
            "showbackground": true,
            "ticks": "",
            "zerolinecolor": "white"
           },
           "yaxis": {
            "backgroundcolor": "#E5ECF6",
            "gridcolor": "white",
            "gridwidth": 2,
            "linecolor": "white",
            "showbackground": true,
            "ticks": "",
            "zerolinecolor": "white"
           },
           "zaxis": {
            "backgroundcolor": "#E5ECF6",
            "gridcolor": "white",
            "gridwidth": 2,
            "linecolor": "white",
            "showbackground": true,
            "ticks": "",
            "zerolinecolor": "white"
           }
          },
          "shapedefaults": {
           "line": {
            "color": "#2a3f5f"
           }
          },
          "ternary": {
           "aaxis": {
            "gridcolor": "white",
            "linecolor": "white",
            "ticks": ""
           },
           "baxis": {
            "gridcolor": "white",
            "linecolor": "white",
            "ticks": ""
           },
           "bgcolor": "#E5ECF6",
           "caxis": {
            "gridcolor": "white",
            "linecolor": "white",
            "ticks": ""
           }
          },
          "title": {
           "x": 0.05
          },
          "xaxis": {
           "automargin": true,
           "gridcolor": "white",
           "linecolor": "white",
           "ticks": "",
           "title": {
            "standoff": 15
           },
           "zerolinecolor": "white",
           "zerolinewidth": 2
          },
          "yaxis": {
           "automargin": true,
           "gridcolor": "white",
           "linecolor": "white",
           "ticks": "",
           "title": {
            "standoff": 15
           },
           "zerolinecolor": "white",
           "zerolinewidth": 2
          }
         }
        },
        "title": {
         "text": "Predicted Lap Times for 2025 Australian GP",
         "x": 0.5
        },
        "xaxis": {
         "anchor": "y",
         "domain": [
          0,
          1
         ],
         "title": {
          "text": "Driver"
         }
        },
        "yaxis": {
         "anchor": "x",
         "domain": [
          0,
          1
         ],
         "title": {
          "text": "Predicted Lap Time (seconds)"
         }
        }
       }
      }
     },
     "metadata": {},
     "output_type": "display_data"
    }
   ],
   "source": [
    "# Display the predictions\n",
    "predictions_df = pd.DataFrame(\n",
    "    {\n",
    "        \"Driver\": merged_dat[merged_dat[\"Year\"] == 2025][\"Driver\"],\n",
    "        \"PredictedLapTime\": predictions,\n",
    "    }\n",
    ")\n",
    "# reverse the driver mapping\n",
    "predictions_df[\"Driver\"] = predictions_df[\"Driver\"].map({v: k for k, v in driver_number_mapping.items()})\n",
    "predictions_df = predictions_df.sort_values(by=\"PredictedLapTime\")\n",
    "predictions_df.reset_index(drop=True, inplace=True)\n",
    "\n",
    "fig = px.bar(\n",
    "    predictions_df,\n",
    "    x=\"Driver\",\n",
    "    y=\"PredictedLapTime\",\n",
    "    title=\"Predicted Lap Times for 2025 Australian GP\",\n",
    "    labels={\"PredictedLapTime\": \"Predicted Lap Time (seconds)\"},\n",
    ")\n",
    "fig.update_layout(\n",
    "    xaxis_title=\"Driver\",\n",
    "    yaxis_title=\"Predicted Lap Time (seconds)\",\n",
    "    title_x=0.5,\n",
    ")\n",
    "fig.show()"
   ]
  }
 ],
 "metadata": {
  "kernelspec": {
   "display_name": "venv",
   "language": "python",
   "name": "python3"
  },
  "language_info": {
   "codemirror_mode": {
    "name": "ipython",
    "version": 3
   },
   "file_extension": ".py",
   "mimetype": "text/x-python",
   "name": "python",
   "nbconvert_exporter": "python",
   "pygments_lexer": "ipython3",
   "version": "3.9.6"
  }
 },
 "nbformat": 4,
 "nbformat_minor": 2
}
